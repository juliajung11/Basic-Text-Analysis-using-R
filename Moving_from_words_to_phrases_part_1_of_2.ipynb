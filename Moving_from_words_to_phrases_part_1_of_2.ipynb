{
  "nbformat": 4,
  "nbformat_minor": 0,
  "metadata": {
    "colab": {
      "name": "Moving from words to phrases part 1 of 2.ipynb",
      "provenance": [],
      "collapsed_sections": [],
      "include_colab_link": true
    },
    "kernelspec": {
      "name": "python3",
      "display_name": "Python 3"
    },
    "language_info": {
      "name": "python"
    },
    "widgets": {
      "application/vnd.jupyter.widget-state+json": {
        "9400591b2d38461bbbe16d9d7984e820": {
          "model_module": "@jupyter-widgets/controls",
          "model_name": "HBoxModel",
          "model_module_version": "1.5.0",
          "state": {
            "_view_name": "HBoxView",
            "_dom_classes": [],
            "_model_name": "HBoxModel",
            "_view_module": "@jupyter-widgets/controls",
            "_model_module_version": "1.5.0",
            "_view_count": null,
            "_view_module_version": "1.5.0",
            "box_style": "",
            "layout": "IPY_MODEL_e7aad9ca63fc42ea94f8adbbc0135206",
            "_model_module": "@jupyter-widgets/controls",
            "children": [
              "IPY_MODEL_882d3b0d75104c2bb8b699cdd4591611",
              "IPY_MODEL_b612a5c64636403ab951b6f3dc9ef7f4",
              "IPY_MODEL_fade59c0f67344679cb80fd4dc2cc2c8"
            ]
          }
        },
        "e7aad9ca63fc42ea94f8adbbc0135206": {
          "model_module": "@jupyter-widgets/base",
          "model_name": "LayoutModel",
          "model_module_version": "1.2.0",
          "state": {
            "_view_name": "LayoutView",
            "grid_template_rows": null,
            "right": null,
            "justify_content": null,
            "_view_module": "@jupyter-widgets/base",
            "overflow": null,
            "_model_module_version": "1.2.0",
            "_view_count": null,
            "flex_flow": null,
            "width": null,
            "min_width": null,
            "border": null,
            "align_items": null,
            "bottom": null,
            "_model_module": "@jupyter-widgets/base",
            "top": null,
            "grid_column": null,
            "overflow_y": null,
            "overflow_x": null,
            "grid_auto_flow": null,
            "grid_area": null,
            "grid_template_columns": null,
            "flex": null,
            "_model_name": "LayoutModel",
            "justify_items": null,
            "grid_row": null,
            "max_height": null,
            "align_content": null,
            "visibility": null,
            "align_self": null,
            "height": null,
            "min_height": null,
            "padding": null,
            "grid_auto_rows": null,
            "grid_gap": null,
            "max_width": null,
            "order": null,
            "_view_module_version": "1.2.0",
            "grid_template_areas": null,
            "object_position": null,
            "object_fit": null,
            "grid_auto_columns": null,
            "margin": null,
            "display": null,
            "left": null
          }
        },
        "882d3b0d75104c2bb8b699cdd4591611": {
          "model_module": "@jupyter-widgets/controls",
          "model_name": "HTMLModel",
          "model_module_version": "1.5.0",
          "state": {
            "_view_name": "HTMLView",
            "style": "IPY_MODEL_c32e7cc8fe4e47aab524224e457d578b",
            "_dom_classes": [],
            "description": "",
            "_model_name": "HTMLModel",
            "placeholder": "​",
            "_view_module": "@jupyter-widgets/controls",
            "_model_module_version": "1.5.0",
            "value": "  6%",
            "_view_count": null,
            "_view_module_version": "1.5.0",
            "description_tooltip": null,
            "_model_module": "@jupyter-widgets/controls",
            "layout": "IPY_MODEL_03c4a63a3779433d868cbe1a479f7676"
          }
        },
        "b612a5c64636403ab951b6f3dc9ef7f4": {
          "model_module": "@jupyter-widgets/controls",
          "model_name": "FloatProgressModel",
          "model_module_version": "1.5.0",
          "state": {
            "_view_name": "ProgressView",
            "style": "IPY_MODEL_c3d5af8b9e5d484cb1174746b9d73e7d",
            "_dom_classes": [],
            "description": "",
            "_model_name": "FloatProgressModel",
            "bar_style": "danger",
            "max": 1700789,
            "_view_module": "@jupyter-widgets/controls",
            "_model_module_version": "1.5.0",
            "value": 99999,
            "_view_count": null,
            "_view_module_version": "1.5.0",
            "orientation": "horizontal",
            "min": 0,
            "description_tooltip": null,
            "_model_module": "@jupyter-widgets/controls",
            "layout": "IPY_MODEL_4b3e4bb876a14bcc83960799ddef9db6"
          }
        },
        "fade59c0f67344679cb80fd4dc2cc2c8": {
          "model_module": "@jupyter-widgets/controls",
          "model_name": "HTMLModel",
          "model_module_version": "1.5.0",
          "state": {
            "_view_name": "HTMLView",
            "style": "IPY_MODEL_b78ad235fbac41049df687ca59cd13c7",
            "_dom_classes": [],
            "description": "",
            "_model_name": "HTMLModel",
            "placeholder": "​",
            "_view_module": "@jupyter-widgets/controls",
            "_model_module_version": "1.5.0",
            "value": " 99999/1700789 [07:09&lt;1:40:13, 266.18it/s]",
            "_view_count": null,
            "_view_module_version": "1.5.0",
            "description_tooltip": null,
            "_model_module": "@jupyter-widgets/controls",
            "layout": "IPY_MODEL_4ad1d3f0e5d44c0680119b2cff512e36"
          }
        },
        "c32e7cc8fe4e47aab524224e457d578b": {
          "model_module": "@jupyter-widgets/controls",
          "model_name": "DescriptionStyleModel",
          "model_module_version": "1.5.0",
          "state": {
            "_view_name": "StyleView",
            "_model_name": "DescriptionStyleModel",
            "description_width": "",
            "_view_module": "@jupyter-widgets/base",
            "_model_module_version": "1.5.0",
            "_view_count": null,
            "_view_module_version": "1.2.0",
            "_model_module": "@jupyter-widgets/controls"
          }
        },
        "03c4a63a3779433d868cbe1a479f7676": {
          "model_module": "@jupyter-widgets/base",
          "model_name": "LayoutModel",
          "model_module_version": "1.2.0",
          "state": {
            "_view_name": "LayoutView",
            "grid_template_rows": null,
            "right": null,
            "justify_content": null,
            "_view_module": "@jupyter-widgets/base",
            "overflow": null,
            "_model_module_version": "1.2.0",
            "_view_count": null,
            "flex_flow": null,
            "width": null,
            "min_width": null,
            "border": null,
            "align_items": null,
            "bottom": null,
            "_model_module": "@jupyter-widgets/base",
            "top": null,
            "grid_column": null,
            "overflow_y": null,
            "overflow_x": null,
            "grid_auto_flow": null,
            "grid_area": null,
            "grid_template_columns": null,
            "flex": null,
            "_model_name": "LayoutModel",
            "justify_items": null,
            "grid_row": null,
            "max_height": null,
            "align_content": null,
            "visibility": null,
            "align_self": null,
            "height": null,
            "min_height": null,
            "padding": null,
            "grid_auto_rows": null,
            "grid_gap": null,
            "max_width": null,
            "order": null,
            "_view_module_version": "1.2.0",
            "grid_template_areas": null,
            "object_position": null,
            "object_fit": null,
            "grid_auto_columns": null,
            "margin": null,
            "display": null,
            "left": null
          }
        },
        "c3d5af8b9e5d484cb1174746b9d73e7d": {
          "model_module": "@jupyter-widgets/controls",
          "model_name": "ProgressStyleModel",
          "model_module_version": "1.5.0",
          "state": {
            "_view_name": "StyleView",
            "_model_name": "ProgressStyleModel",
            "description_width": "",
            "_view_module": "@jupyter-widgets/base",
            "_model_module_version": "1.5.0",
            "_view_count": null,
            "_view_module_version": "1.2.0",
            "bar_color": null,
            "_model_module": "@jupyter-widgets/controls"
          }
        },
        "4b3e4bb876a14bcc83960799ddef9db6": {
          "model_module": "@jupyter-widgets/base",
          "model_name": "LayoutModel",
          "model_module_version": "1.2.0",
          "state": {
            "_view_name": "LayoutView",
            "grid_template_rows": null,
            "right": null,
            "justify_content": null,
            "_view_module": "@jupyter-widgets/base",
            "overflow": null,
            "_model_module_version": "1.2.0",
            "_view_count": null,
            "flex_flow": null,
            "width": null,
            "min_width": null,
            "border": null,
            "align_items": null,
            "bottom": null,
            "_model_module": "@jupyter-widgets/base",
            "top": null,
            "grid_column": null,
            "overflow_y": null,
            "overflow_x": null,
            "grid_auto_flow": null,
            "grid_area": null,
            "grid_template_columns": null,
            "flex": null,
            "_model_name": "LayoutModel",
            "justify_items": null,
            "grid_row": null,
            "max_height": null,
            "align_content": null,
            "visibility": null,
            "align_self": null,
            "height": null,
            "min_height": null,
            "padding": null,
            "grid_auto_rows": null,
            "grid_gap": null,
            "max_width": null,
            "order": null,
            "_view_module_version": "1.2.0",
            "grid_template_areas": null,
            "object_position": null,
            "object_fit": null,
            "grid_auto_columns": null,
            "margin": null,
            "display": null,
            "left": null
          }
        },
        "b78ad235fbac41049df687ca59cd13c7": {
          "model_module": "@jupyter-widgets/controls",
          "model_name": "DescriptionStyleModel",
          "model_module_version": "1.5.0",
          "state": {
            "_view_name": "StyleView",
            "_model_name": "DescriptionStyleModel",
            "description_width": "",
            "_view_module": "@jupyter-widgets/base",
            "_model_module_version": "1.5.0",
            "_view_count": null,
            "_view_module_version": "1.2.0",
            "_model_module": "@jupyter-widgets/controls"
          }
        },
        "4ad1d3f0e5d44c0680119b2cff512e36": {
          "model_module": "@jupyter-widgets/base",
          "model_name": "LayoutModel",
          "model_module_version": "1.2.0",
          "state": {
            "_view_name": "LayoutView",
            "grid_template_rows": null,
            "right": null,
            "justify_content": null,
            "_view_module": "@jupyter-widgets/base",
            "overflow": null,
            "_model_module_version": "1.2.0",
            "_view_count": null,
            "flex_flow": null,
            "width": null,
            "min_width": null,
            "border": null,
            "align_items": null,
            "bottom": null,
            "_model_module": "@jupyter-widgets/base",
            "top": null,
            "grid_column": null,
            "overflow_y": null,
            "overflow_x": null,
            "grid_auto_flow": null,
            "grid_area": null,
            "grid_template_columns": null,
            "flex": null,
            "_model_name": "LayoutModel",
            "justify_items": null,
            "grid_row": null,
            "max_height": null,
            "align_content": null,
            "visibility": null,
            "align_self": null,
            "height": null,
            "min_height": null,
            "padding": null,
            "grid_auto_rows": null,
            "grid_gap": null,
            "max_width": null,
            "order": null,
            "_view_module_version": "1.2.0",
            "grid_template_areas": null,
            "object_position": null,
            "object_fit": null,
            "grid_auto_columns": null,
            "margin": null,
            "display": null,
            "left": null
          }
        },
        "d0dc29c9d882401bbdae89f090bf6a91": {
          "model_module": "@jupyter-widgets/controls",
          "model_name": "HBoxModel",
          "model_module_version": "1.5.0",
          "state": {
            "_view_name": "HBoxView",
            "_dom_classes": [],
            "_model_name": "HBoxModel",
            "_view_module": "@jupyter-widgets/controls",
            "_model_module_version": "1.5.0",
            "_view_count": null,
            "_view_module_version": "1.5.0",
            "box_style": "",
            "layout": "IPY_MODEL_a42236a4b0f94c8ca3da4e1496751684",
            "_model_module": "@jupyter-widgets/controls",
            "children": [
              "IPY_MODEL_fffe772eb6dc42fb8d243a33a4a1318d",
              "IPY_MODEL_eb87dbeadd4f4b2fbaf0bfead94a6501",
              "IPY_MODEL_856f187e41784a4e9f2a79c99c086792"
            ]
          }
        },
        "a42236a4b0f94c8ca3da4e1496751684": {
          "model_module": "@jupyter-widgets/base",
          "model_name": "LayoutModel",
          "model_module_version": "1.2.0",
          "state": {
            "_view_name": "LayoutView",
            "grid_template_rows": null,
            "right": null,
            "justify_content": null,
            "_view_module": "@jupyter-widgets/base",
            "overflow": null,
            "_model_module_version": "1.2.0",
            "_view_count": null,
            "flex_flow": null,
            "width": null,
            "min_width": null,
            "border": null,
            "align_items": null,
            "bottom": null,
            "_model_module": "@jupyter-widgets/base",
            "top": null,
            "grid_column": null,
            "overflow_y": null,
            "overflow_x": null,
            "grid_auto_flow": null,
            "grid_area": null,
            "grid_template_columns": null,
            "flex": null,
            "_model_name": "LayoutModel",
            "justify_items": null,
            "grid_row": null,
            "max_height": null,
            "align_content": null,
            "visibility": null,
            "align_self": null,
            "height": null,
            "min_height": null,
            "padding": null,
            "grid_auto_rows": null,
            "grid_gap": null,
            "max_width": null,
            "order": null,
            "_view_module_version": "1.2.0",
            "grid_template_areas": null,
            "object_position": null,
            "object_fit": null,
            "grid_auto_columns": null,
            "margin": null,
            "display": null,
            "left": null
          }
        },
        "fffe772eb6dc42fb8d243a33a4a1318d": {
          "model_module": "@jupyter-widgets/controls",
          "model_name": "HTMLModel",
          "model_module_version": "1.5.0",
          "state": {
            "_view_name": "HTMLView",
            "style": "IPY_MODEL_17bdf2e46dd544dea732c9e35fa7ac83",
            "_dom_classes": [],
            "description": "",
            "_model_name": "HTMLModel",
            "placeholder": "​",
            "_view_module": "@jupyter-widgets/controls",
            "_model_module_version": "1.5.0",
            "value": "100%",
            "_view_count": null,
            "_view_module_version": "1.5.0",
            "description_tooltip": null,
            "_model_module": "@jupyter-widgets/controls",
            "layout": "IPY_MODEL_e540dd47ddda4d35997edfa4ec8afd8f"
          }
        },
        "eb87dbeadd4f4b2fbaf0bfead94a6501": {
          "model_module": "@jupyter-widgets/controls",
          "model_name": "FloatProgressModel",
          "model_module_version": "1.5.0",
          "state": {
            "_view_name": "ProgressView",
            "style": "IPY_MODEL_515ce4f646204ea4b1c3b58f4baa7b0d",
            "_dom_classes": [],
            "description": "",
            "_model_name": "FloatProgressModel",
            "bar_style": "success",
            "max": 1700789,
            "_view_module": "@jupyter-widgets/controls",
            "_model_module_version": "1.5.0",
            "value": 1700789,
            "_view_count": null,
            "_view_module_version": "1.5.0",
            "orientation": "horizontal",
            "min": 0,
            "description_tooltip": null,
            "_model_module": "@jupyter-widgets/controls",
            "layout": "IPY_MODEL_9647ece437de4e0481bef6b371206d0d"
          }
        },
        "856f187e41784a4e9f2a79c99c086792": {
          "model_module": "@jupyter-widgets/controls",
          "model_name": "HTMLModel",
          "model_module_version": "1.5.0",
          "state": {
            "_view_name": "HTMLView",
            "style": "IPY_MODEL_5c111fa12baf44a2af0254b751af6470",
            "_dom_classes": [],
            "description": "",
            "_model_name": "HTMLModel",
            "placeholder": "​",
            "_view_module": "@jupyter-widgets/controls",
            "_model_module_version": "1.5.0",
            "value": " 1700789/1700789 [00:04&lt;00:00, 346135.03it/s]",
            "_view_count": null,
            "_view_module_version": "1.5.0",
            "description_tooltip": null,
            "_model_module": "@jupyter-widgets/controls",
            "layout": "IPY_MODEL_a1855c6b8fed49a2995cd1fe83e10a8f"
          }
        },
        "17bdf2e46dd544dea732c9e35fa7ac83": {
          "model_module": "@jupyter-widgets/controls",
          "model_name": "DescriptionStyleModel",
          "model_module_version": "1.5.0",
          "state": {
            "_view_name": "StyleView",
            "_model_name": "DescriptionStyleModel",
            "description_width": "",
            "_view_module": "@jupyter-widgets/base",
            "_model_module_version": "1.5.0",
            "_view_count": null,
            "_view_module_version": "1.2.0",
            "_model_module": "@jupyter-widgets/controls"
          }
        },
        "e540dd47ddda4d35997edfa4ec8afd8f": {
          "model_module": "@jupyter-widgets/base",
          "model_name": "LayoutModel",
          "model_module_version": "1.2.0",
          "state": {
            "_view_name": "LayoutView",
            "grid_template_rows": null,
            "right": null,
            "justify_content": null,
            "_view_module": "@jupyter-widgets/base",
            "overflow": null,
            "_model_module_version": "1.2.0",
            "_view_count": null,
            "flex_flow": null,
            "width": null,
            "min_width": null,
            "border": null,
            "align_items": null,
            "bottom": null,
            "_model_module": "@jupyter-widgets/base",
            "top": null,
            "grid_column": null,
            "overflow_y": null,
            "overflow_x": null,
            "grid_auto_flow": null,
            "grid_area": null,
            "grid_template_columns": null,
            "flex": null,
            "_model_name": "LayoutModel",
            "justify_items": null,
            "grid_row": null,
            "max_height": null,
            "align_content": null,
            "visibility": null,
            "align_self": null,
            "height": null,
            "min_height": null,
            "padding": null,
            "grid_auto_rows": null,
            "grid_gap": null,
            "max_width": null,
            "order": null,
            "_view_module_version": "1.2.0",
            "grid_template_areas": null,
            "object_position": null,
            "object_fit": null,
            "grid_auto_columns": null,
            "margin": null,
            "display": null,
            "left": null
          }
        },
        "515ce4f646204ea4b1c3b58f4baa7b0d": {
          "model_module": "@jupyter-widgets/controls",
          "model_name": "ProgressStyleModel",
          "model_module_version": "1.5.0",
          "state": {
            "_view_name": "StyleView",
            "_model_name": "ProgressStyleModel",
            "description_width": "",
            "_view_module": "@jupyter-widgets/base",
            "_model_module_version": "1.5.0",
            "_view_count": null,
            "_view_module_version": "1.2.0",
            "bar_color": null,
            "_model_module": "@jupyter-widgets/controls"
          }
        },
        "9647ece437de4e0481bef6b371206d0d": {
          "model_module": "@jupyter-widgets/base",
          "model_name": "LayoutModel",
          "model_module_version": "1.2.0",
          "state": {
            "_view_name": "LayoutView",
            "grid_template_rows": null,
            "right": null,
            "justify_content": null,
            "_view_module": "@jupyter-widgets/base",
            "overflow": null,
            "_model_module_version": "1.2.0",
            "_view_count": null,
            "flex_flow": null,
            "width": null,
            "min_width": null,
            "border": null,
            "align_items": null,
            "bottom": null,
            "_model_module": "@jupyter-widgets/base",
            "top": null,
            "grid_column": null,
            "overflow_y": null,
            "overflow_x": null,
            "grid_auto_flow": null,
            "grid_area": null,
            "grid_template_columns": null,
            "flex": null,
            "_model_name": "LayoutModel",
            "justify_items": null,
            "grid_row": null,
            "max_height": null,
            "align_content": null,
            "visibility": null,
            "align_self": null,
            "height": null,
            "min_height": null,
            "padding": null,
            "grid_auto_rows": null,
            "grid_gap": null,
            "max_width": null,
            "order": null,
            "_view_module_version": "1.2.0",
            "grid_template_areas": null,
            "object_position": null,
            "object_fit": null,
            "grid_auto_columns": null,
            "margin": null,
            "display": null,
            "left": null
          }
        },
        "5c111fa12baf44a2af0254b751af6470": {
          "model_module": "@jupyter-widgets/controls",
          "model_name": "DescriptionStyleModel",
          "model_module_version": "1.5.0",
          "state": {
            "_view_name": "StyleView",
            "_model_name": "DescriptionStyleModel",
            "description_width": "",
            "_view_module": "@jupyter-widgets/base",
            "_model_module_version": "1.5.0",
            "_view_count": null,
            "_view_module_version": "1.2.0",
            "_model_module": "@jupyter-widgets/controls"
          }
        },
        "a1855c6b8fed49a2995cd1fe83e10a8f": {
          "model_module": "@jupyter-widgets/base",
          "model_name": "LayoutModel",
          "model_module_version": "1.2.0",
          "state": {
            "_view_name": "LayoutView",
            "grid_template_rows": null,
            "right": null,
            "justify_content": null,
            "_view_module": "@jupyter-widgets/base",
            "overflow": null,
            "_model_module_version": "1.2.0",
            "_view_count": null,
            "flex_flow": null,
            "width": null,
            "min_width": null,
            "border": null,
            "align_items": null,
            "bottom": null,
            "_model_module": "@jupyter-widgets/base",
            "top": null,
            "grid_column": null,
            "overflow_y": null,
            "overflow_x": null,
            "grid_auto_flow": null,
            "grid_area": null,
            "grid_template_columns": null,
            "flex": null,
            "_model_name": "LayoutModel",
            "justify_items": null,
            "grid_row": null,
            "max_height": null,
            "align_content": null,
            "visibility": null,
            "align_self": null,
            "height": null,
            "min_height": null,
            "padding": null,
            "grid_auto_rows": null,
            "grid_gap": null,
            "max_width": null,
            "order": null,
            "_view_module_version": "1.2.0",
            "grid_template_areas": null,
            "object_position": null,
            "object_fit": null,
            "grid_auto_columns": null,
            "margin": null,
            "display": null,
            "left": null
          }
        },
        "456b42e29d704b44b534eedb2c614c04": {
          "model_module": "@jupyter-widgets/controls",
          "model_name": "HBoxModel",
          "model_module_version": "1.5.0",
          "state": {
            "_view_name": "HBoxView",
            "_dom_classes": [],
            "_model_name": "HBoxModel",
            "_view_module": "@jupyter-widgets/controls",
            "_model_module_version": "1.5.0",
            "_view_count": null,
            "_view_module_version": "1.5.0",
            "box_style": "",
            "layout": "IPY_MODEL_511440311fff4c11a62dd37fddf57f8c",
            "_model_module": "@jupyter-widgets/controls",
            "children": [
              "IPY_MODEL_8925398ad1cb4a28bc23f1a94ce52637",
              "IPY_MODEL_bf9b05466aef4623b197b1b70c38b48f",
              "IPY_MODEL_e5e950d8dad24af7ae3294daf453a7b1"
            ]
          }
        },
        "511440311fff4c11a62dd37fddf57f8c": {
          "model_module": "@jupyter-widgets/base",
          "model_name": "LayoutModel",
          "model_module_version": "1.2.0",
          "state": {
            "_view_name": "LayoutView",
            "grid_template_rows": null,
            "right": null,
            "justify_content": null,
            "_view_module": "@jupyter-widgets/base",
            "overflow": null,
            "_model_module_version": "1.2.0",
            "_view_count": null,
            "flex_flow": null,
            "width": null,
            "min_width": null,
            "border": null,
            "align_items": null,
            "bottom": null,
            "_model_module": "@jupyter-widgets/base",
            "top": null,
            "grid_column": null,
            "overflow_y": null,
            "overflow_x": null,
            "grid_auto_flow": null,
            "grid_area": null,
            "grid_template_columns": null,
            "flex": null,
            "_model_name": "LayoutModel",
            "justify_items": null,
            "grid_row": null,
            "max_height": null,
            "align_content": null,
            "visibility": null,
            "align_self": null,
            "height": null,
            "min_height": null,
            "padding": null,
            "grid_auto_rows": null,
            "grid_gap": null,
            "max_width": null,
            "order": null,
            "_view_module_version": "1.2.0",
            "grid_template_areas": null,
            "object_position": null,
            "object_fit": null,
            "grid_auto_columns": null,
            "margin": null,
            "display": null,
            "left": null
          }
        },
        "8925398ad1cb4a28bc23f1a94ce52637": {
          "model_module": "@jupyter-widgets/controls",
          "model_name": "HTMLModel",
          "model_module_version": "1.5.0",
          "state": {
            "_view_name": "HTMLView",
            "style": "IPY_MODEL_83ec2808afd24e7da3384fe0b060df35",
            "_dom_classes": [],
            "description": "",
            "_model_name": "HTMLModel",
            "placeholder": "​",
            "_view_module": "@jupyter-widgets/controls",
            "_model_module_version": "1.5.0",
            "value": "100%",
            "_view_count": null,
            "_view_module_version": "1.5.0",
            "description_tooltip": null,
            "_model_module": "@jupyter-widgets/controls",
            "layout": "IPY_MODEL_11adf03854d34482b6406acc5d41e641"
          }
        },
        "bf9b05466aef4623b197b1b70c38b48f": {
          "model_module": "@jupyter-widgets/controls",
          "model_name": "FloatProgressModel",
          "model_module_version": "1.5.0",
          "state": {
            "_view_name": "ProgressView",
            "style": "IPY_MODEL_46576abf7c84479889603d543aa3256f",
            "_dom_classes": [],
            "description": "",
            "_model_name": "FloatProgressModel",
            "bar_style": "success",
            "max": 78598,
            "_view_module": "@jupyter-widgets/controls",
            "_model_module_version": "1.5.0",
            "value": 78598,
            "_view_count": null,
            "_view_module_version": "1.5.0",
            "orientation": "horizontal",
            "min": 0,
            "description_tooltip": null,
            "_model_module": "@jupyter-widgets/controls",
            "layout": "IPY_MODEL_754d742eac6442dd9d4553ccd59903a0"
          }
        },
        "e5e950d8dad24af7ae3294daf453a7b1": {
          "model_module": "@jupyter-widgets/controls",
          "model_name": "HTMLModel",
          "model_module_version": "1.5.0",
          "state": {
            "_view_name": "HTMLView",
            "style": "IPY_MODEL_8e4730b7473146ac83911f89fa2afffc",
            "_dom_classes": [],
            "description": "",
            "_model_name": "HTMLModel",
            "placeholder": "​",
            "_view_module": "@jupyter-widgets/controls",
            "_model_module_version": "1.5.0",
            "value": " 78598/78598 [04:30&lt;00:00, 322.60it/s]",
            "_view_count": null,
            "_view_module_version": "1.5.0",
            "description_tooltip": null,
            "_model_module": "@jupyter-widgets/controls",
            "layout": "IPY_MODEL_9649b095d5194ae1922c7b9a21af45f6"
          }
        },
        "83ec2808afd24e7da3384fe0b060df35": {
          "model_module": "@jupyter-widgets/controls",
          "model_name": "DescriptionStyleModel",
          "model_module_version": "1.5.0",
          "state": {
            "_view_name": "StyleView",
            "_model_name": "DescriptionStyleModel",
            "description_width": "",
            "_view_module": "@jupyter-widgets/base",
            "_model_module_version": "1.5.0",
            "_view_count": null,
            "_view_module_version": "1.2.0",
            "_model_module": "@jupyter-widgets/controls"
          }
        },
        "11adf03854d34482b6406acc5d41e641": {
          "model_module": "@jupyter-widgets/base",
          "model_name": "LayoutModel",
          "model_module_version": "1.2.0",
          "state": {
            "_view_name": "LayoutView",
            "grid_template_rows": null,
            "right": null,
            "justify_content": null,
            "_view_module": "@jupyter-widgets/base",
            "overflow": null,
            "_model_module_version": "1.2.0",
            "_view_count": null,
            "flex_flow": null,
            "width": null,
            "min_width": null,
            "border": null,
            "align_items": null,
            "bottom": null,
            "_model_module": "@jupyter-widgets/base",
            "top": null,
            "grid_column": null,
            "overflow_y": null,
            "overflow_x": null,
            "grid_auto_flow": null,
            "grid_area": null,
            "grid_template_columns": null,
            "flex": null,
            "_model_name": "LayoutModel",
            "justify_items": null,
            "grid_row": null,
            "max_height": null,
            "align_content": null,
            "visibility": null,
            "align_self": null,
            "height": null,
            "min_height": null,
            "padding": null,
            "grid_auto_rows": null,
            "grid_gap": null,
            "max_width": null,
            "order": null,
            "_view_module_version": "1.2.0",
            "grid_template_areas": null,
            "object_position": null,
            "object_fit": null,
            "grid_auto_columns": null,
            "margin": null,
            "display": null,
            "left": null
          }
        },
        "46576abf7c84479889603d543aa3256f": {
          "model_module": "@jupyter-widgets/controls",
          "model_name": "ProgressStyleModel",
          "model_module_version": "1.5.0",
          "state": {
            "_view_name": "StyleView",
            "_model_name": "ProgressStyleModel",
            "description_width": "",
            "_view_module": "@jupyter-widgets/base",
            "_model_module_version": "1.5.0",
            "_view_count": null,
            "_view_module_version": "1.2.0",
            "bar_color": null,
            "_model_module": "@jupyter-widgets/controls"
          }
        },
        "754d742eac6442dd9d4553ccd59903a0": {
          "model_module": "@jupyter-widgets/base",
          "model_name": "LayoutModel",
          "model_module_version": "1.2.0",
          "state": {
            "_view_name": "LayoutView",
            "grid_template_rows": null,
            "right": null,
            "justify_content": null,
            "_view_module": "@jupyter-widgets/base",
            "overflow": null,
            "_model_module_version": "1.2.0",
            "_view_count": null,
            "flex_flow": null,
            "width": null,
            "min_width": null,
            "border": null,
            "align_items": null,
            "bottom": null,
            "_model_module": "@jupyter-widgets/base",
            "top": null,
            "grid_column": null,
            "overflow_y": null,
            "overflow_x": null,
            "grid_auto_flow": null,
            "grid_area": null,
            "grid_template_columns": null,
            "flex": null,
            "_model_name": "LayoutModel",
            "justify_items": null,
            "grid_row": null,
            "max_height": null,
            "align_content": null,
            "visibility": null,
            "align_self": null,
            "height": null,
            "min_height": null,
            "padding": null,
            "grid_auto_rows": null,
            "grid_gap": null,
            "max_width": null,
            "order": null,
            "_view_module_version": "1.2.0",
            "grid_template_areas": null,
            "object_position": null,
            "object_fit": null,
            "grid_auto_columns": null,
            "margin": null,
            "display": null,
            "left": null
          }
        },
        "8e4730b7473146ac83911f89fa2afffc": {
          "model_module": "@jupyter-widgets/controls",
          "model_name": "DescriptionStyleModel",
          "model_module_version": "1.5.0",
          "state": {
            "_view_name": "StyleView",
            "_model_name": "DescriptionStyleModel",
            "description_width": "",
            "_view_module": "@jupyter-widgets/base",
            "_model_module_version": "1.5.0",
            "_view_count": null,
            "_view_module_version": "1.2.0",
            "_model_module": "@jupyter-widgets/controls"
          }
        },
        "9649b095d5194ae1922c7b9a21af45f6": {
          "model_module": "@jupyter-widgets/base",
          "model_name": "LayoutModel",
          "model_module_version": "1.2.0",
          "state": {
            "_view_name": "LayoutView",
            "grid_template_rows": null,
            "right": null,
            "justify_content": null,
            "_view_module": "@jupyter-widgets/base",
            "overflow": null,
            "_model_module_version": "1.2.0",
            "_view_count": null,
            "flex_flow": null,
            "width": null,
            "min_width": null,
            "border": null,
            "align_items": null,
            "bottom": null,
            "_model_module": "@jupyter-widgets/base",
            "top": null,
            "grid_column": null,
            "overflow_y": null,
            "overflow_x": null,
            "grid_auto_flow": null,
            "grid_area": null,
            "grid_template_columns": null,
            "flex": null,
            "_model_name": "LayoutModel",
            "justify_items": null,
            "grid_row": null,
            "max_height": null,
            "align_content": null,
            "visibility": null,
            "align_self": null,
            "height": null,
            "min_height": null,
            "padding": null,
            "grid_auto_rows": null,
            "grid_gap": null,
            "max_width": null,
            "order": null,
            "_view_module_version": "1.2.0",
            "grid_template_areas": null,
            "object_position": null,
            "object_fit": null,
            "grid_auto_columns": null,
            "margin": null,
            "display": null,
            "left": null
          }
        },
        "749de720cfc64e8cb81626770249875e": {
          "model_module": "@jupyter-widgets/controls",
          "model_name": "HBoxModel",
          "model_module_version": "1.5.0",
          "state": {
            "_view_name": "HBoxView",
            "_dom_classes": [],
            "_model_name": "HBoxModel",
            "_view_module": "@jupyter-widgets/controls",
            "_model_module_version": "1.5.0",
            "_view_count": null,
            "_view_module_version": "1.5.0",
            "box_style": "",
            "layout": "IPY_MODEL_d332dd1275b94e4aadf30575e98d0a47",
            "_model_module": "@jupyter-widgets/controls",
            "children": [
              "IPY_MODEL_eeb3d9e7264d4c0eaf9c51998e965050",
              "IPY_MODEL_74ff532502a243c0823d8fdd3a642e68",
              "IPY_MODEL_b88495bde68644cdb02c780c48f4b4b9"
            ]
          }
        },
        "d332dd1275b94e4aadf30575e98d0a47": {
          "model_module": "@jupyter-widgets/base",
          "model_name": "LayoutModel",
          "model_module_version": "1.2.0",
          "state": {
            "_view_name": "LayoutView",
            "grid_template_rows": null,
            "right": null,
            "justify_content": null,
            "_view_module": "@jupyter-widgets/base",
            "overflow": null,
            "_model_module_version": "1.2.0",
            "_view_count": null,
            "flex_flow": null,
            "width": null,
            "min_width": null,
            "border": null,
            "align_items": null,
            "bottom": null,
            "_model_module": "@jupyter-widgets/base",
            "top": null,
            "grid_column": null,
            "overflow_y": null,
            "overflow_x": null,
            "grid_auto_flow": null,
            "grid_area": null,
            "grid_template_columns": null,
            "flex": null,
            "_model_name": "LayoutModel",
            "justify_items": null,
            "grid_row": null,
            "max_height": null,
            "align_content": null,
            "visibility": null,
            "align_self": null,
            "height": null,
            "min_height": null,
            "padding": null,
            "grid_auto_rows": null,
            "grid_gap": null,
            "max_width": null,
            "order": null,
            "_view_module_version": "1.2.0",
            "grid_template_areas": null,
            "object_position": null,
            "object_fit": null,
            "grid_auto_columns": null,
            "margin": null,
            "display": null,
            "left": null
          }
        },
        "eeb3d9e7264d4c0eaf9c51998e965050": {
          "model_module": "@jupyter-widgets/controls",
          "model_name": "HTMLModel",
          "model_module_version": "1.5.0",
          "state": {
            "_view_name": "HTMLView",
            "style": "IPY_MODEL_ef6e7f216e0446ac90334c7c6bf80786",
            "_dom_classes": [],
            "description": "",
            "_model_name": "HTMLModel",
            "placeholder": "​",
            "_view_module": "@jupyter-widgets/controls",
            "_model_module_version": "1.5.0",
            "value": "100%",
            "_view_count": null,
            "_view_module_version": "1.5.0",
            "description_tooltip": null,
            "_model_module": "@jupyter-widgets/controls",
            "layout": "IPY_MODEL_50d595cd7e1b40ffa7cf58909b731e65"
          }
        },
        "74ff532502a243c0823d8fdd3a642e68": {
          "model_module": "@jupyter-widgets/controls",
          "model_name": "FloatProgressModel",
          "model_module_version": "1.5.0",
          "state": {
            "_view_name": "ProgressView",
            "style": "IPY_MODEL_c3bbdab6539647ea831bd33f70090605",
            "_dom_classes": [],
            "description": "",
            "_model_name": "FloatProgressModel",
            "bar_style": "success",
            "max": 78598,
            "_view_module": "@jupyter-widgets/controls",
            "_model_module_version": "1.5.0",
            "value": 78598,
            "_view_count": null,
            "_view_module_version": "1.5.0",
            "orientation": "horizontal",
            "min": 0,
            "description_tooltip": null,
            "_model_module": "@jupyter-widgets/controls",
            "layout": "IPY_MODEL_216b647ad25242d8bf13e8643b51b4b9"
          }
        },
        "b88495bde68644cdb02c780c48f4b4b9": {
          "model_module": "@jupyter-widgets/controls",
          "model_name": "HTMLModel",
          "model_module_version": "1.5.0",
          "state": {
            "_view_name": "HTMLView",
            "style": "IPY_MODEL_58ced7930aaf47e5932ea16d4f11e7cb",
            "_dom_classes": [],
            "description": "",
            "_model_name": "HTMLModel",
            "placeholder": "​",
            "_view_module": "@jupyter-widgets/controls",
            "_model_module_version": "1.5.0",
            "value": " 78598/78598 [00:02&lt;00:00, 32913.93it/s]",
            "_view_count": null,
            "_view_module_version": "1.5.0",
            "description_tooltip": null,
            "_model_module": "@jupyter-widgets/controls",
            "layout": "IPY_MODEL_c7759526e1ea4cafb3ee2c503f87511e"
          }
        },
        "ef6e7f216e0446ac90334c7c6bf80786": {
          "model_module": "@jupyter-widgets/controls",
          "model_name": "DescriptionStyleModel",
          "model_module_version": "1.5.0",
          "state": {
            "_view_name": "StyleView",
            "_model_name": "DescriptionStyleModel",
            "description_width": "",
            "_view_module": "@jupyter-widgets/base",
            "_model_module_version": "1.5.0",
            "_view_count": null,
            "_view_module_version": "1.2.0",
            "_model_module": "@jupyter-widgets/controls"
          }
        },
        "50d595cd7e1b40ffa7cf58909b731e65": {
          "model_module": "@jupyter-widgets/base",
          "model_name": "LayoutModel",
          "model_module_version": "1.2.0",
          "state": {
            "_view_name": "LayoutView",
            "grid_template_rows": null,
            "right": null,
            "justify_content": null,
            "_view_module": "@jupyter-widgets/base",
            "overflow": null,
            "_model_module_version": "1.2.0",
            "_view_count": null,
            "flex_flow": null,
            "width": null,
            "min_width": null,
            "border": null,
            "align_items": null,
            "bottom": null,
            "_model_module": "@jupyter-widgets/base",
            "top": null,
            "grid_column": null,
            "overflow_y": null,
            "overflow_x": null,
            "grid_auto_flow": null,
            "grid_area": null,
            "grid_template_columns": null,
            "flex": null,
            "_model_name": "LayoutModel",
            "justify_items": null,
            "grid_row": null,
            "max_height": null,
            "align_content": null,
            "visibility": null,
            "align_self": null,
            "height": null,
            "min_height": null,
            "padding": null,
            "grid_auto_rows": null,
            "grid_gap": null,
            "max_width": null,
            "order": null,
            "_view_module_version": "1.2.0",
            "grid_template_areas": null,
            "object_position": null,
            "object_fit": null,
            "grid_auto_columns": null,
            "margin": null,
            "display": null,
            "left": null
          }
        },
        "c3bbdab6539647ea831bd33f70090605": {
          "model_module": "@jupyter-widgets/controls",
          "model_name": "ProgressStyleModel",
          "model_module_version": "1.5.0",
          "state": {
            "_view_name": "StyleView",
            "_model_name": "ProgressStyleModel",
            "description_width": "",
            "_view_module": "@jupyter-widgets/base",
            "_model_module_version": "1.5.0",
            "_view_count": null,
            "_view_module_version": "1.2.0",
            "bar_color": null,
            "_model_module": "@jupyter-widgets/controls"
          }
        },
        "216b647ad25242d8bf13e8643b51b4b9": {
          "model_module": "@jupyter-widgets/base",
          "model_name": "LayoutModel",
          "model_module_version": "1.2.0",
          "state": {
            "_view_name": "LayoutView",
            "grid_template_rows": null,
            "right": null,
            "justify_content": null,
            "_view_module": "@jupyter-widgets/base",
            "overflow": null,
            "_model_module_version": "1.2.0",
            "_view_count": null,
            "flex_flow": null,
            "width": null,
            "min_width": null,
            "border": null,
            "align_items": null,
            "bottom": null,
            "_model_module": "@jupyter-widgets/base",
            "top": null,
            "grid_column": null,
            "overflow_y": null,
            "overflow_x": null,
            "grid_auto_flow": null,
            "grid_area": null,
            "grid_template_columns": null,
            "flex": null,
            "_model_name": "LayoutModel",
            "justify_items": null,
            "grid_row": null,
            "max_height": null,
            "align_content": null,
            "visibility": null,
            "align_self": null,
            "height": null,
            "min_height": null,
            "padding": null,
            "grid_auto_rows": null,
            "grid_gap": null,
            "max_width": null,
            "order": null,
            "_view_module_version": "1.2.0",
            "grid_template_areas": null,
            "object_position": null,
            "object_fit": null,
            "grid_auto_columns": null,
            "margin": null,
            "display": null,
            "left": null
          }
        },
        "58ced7930aaf47e5932ea16d4f11e7cb": {
          "model_module": "@jupyter-widgets/controls",
          "model_name": "DescriptionStyleModel",
          "model_module_version": "1.5.0",
          "state": {
            "_view_name": "StyleView",
            "_model_name": "DescriptionStyleModel",
            "description_width": "",
            "_view_module": "@jupyter-widgets/base",
            "_model_module_version": "1.5.0",
            "_view_count": null,
            "_view_module_version": "1.2.0",
            "_model_module": "@jupyter-widgets/controls"
          }
        },
        "c7759526e1ea4cafb3ee2c503f87511e": {
          "model_module": "@jupyter-widgets/base",
          "model_name": "LayoutModel",
          "model_module_version": "1.2.0",
          "state": {
            "_view_name": "LayoutView",
            "grid_template_rows": null,
            "right": null,
            "justify_content": null,
            "_view_module": "@jupyter-widgets/base",
            "overflow": null,
            "_model_module_version": "1.2.0",
            "_view_count": null,
            "flex_flow": null,
            "width": null,
            "min_width": null,
            "border": null,
            "align_items": null,
            "bottom": null,
            "_model_module": "@jupyter-widgets/base",
            "top": null,
            "grid_column": null,
            "overflow_y": null,
            "overflow_x": null,
            "grid_auto_flow": null,
            "grid_area": null,
            "grid_template_columns": null,
            "flex": null,
            "_model_name": "LayoutModel",
            "justify_items": null,
            "grid_row": null,
            "max_height": null,
            "align_content": null,
            "visibility": null,
            "align_self": null,
            "height": null,
            "min_height": null,
            "padding": null,
            "grid_auto_rows": null,
            "grid_gap": null,
            "max_width": null,
            "order": null,
            "_view_module_version": "1.2.0",
            "grid_template_areas": null,
            "object_position": null,
            "object_fit": null,
            "grid_auto_columns": null,
            "margin": null,
            "display": null,
            "left": null
          }
        }
      }
    }
  },
  "cells": [
    {
      "cell_type": "markdown",
      "metadata": {
        "id": "view-in-github",
        "colab_type": "text"
      },
      "source": [
        "<a href=\"https://colab.research.google.com/github/juliajung11/Basic-Text-Analysis-using-R/blob/master/Moving_from_words_to_phrases_part_1_of_2.ipynb\" target=\"_parent\"><img src=\"https://colab.research.google.com/assets/colab-badge.svg\" alt=\"Open In Colab\"/></a>"
      ]
    },
    {
      "cell_type": "markdown",
      "source": [
        "## Moving from words to phrases when doing NLP\n",
        "- [Abe Handler](https://www.abehandler.com/) University of Colorado, Boulder\n",
        "- [Shufan Wang](https://people.cs.umass.edu/~shufanwang/) University of  Massachusetts, Amherst\n",
        "\n",
        "## Introduction\n",
        "\n",
        "If you have found this tutorial (companion slides [here](https://docs.google.com/presentation/d/1C5O0EdgM33SO1KlCk90rW1g7nuf2264XcuYPZB-b7bI/edit?usp=sharing)), you have probably done NLP projects where you (a) start with documents, (b) break them into individual words, and then (c) use computation to draw conclusions about the words in the documents. For instance, in your last project, maybe you took a collection of documents, broke the documents into individual words and then ran a topic model to find groups of words that tended to appear together in the documents. \n",
        "\n",
        "Breaking documents into individual words implicitly represents text in terms of single-word units called **unigrams**. The unordered collection of all the unigrams in a document is often called a   **bag of words** (see [Jurafsky and Martin](https://web.stanford.edu/~jurafsky/slp3/4.pdf)). Representing text using the unigram bag of words has many advantages. For one, analyzing unigrams is easy and fast; you can take a big text document and break it into a bunch of single-word observations, so you can observe useful statistical properties from the text. \n",
        "\n",
        "However, breaking documents into single words for downstream analysis does have downsides. One limitation is that some concepts or linguistic units within documents consist of multiple words, and so get lost or discarded when you using a unigram representation. For instance, the string \"immigration hearing\" refers to a particular legal proceeding. If you break this string into single word units \"immigration\" and \"hearing\", and put each of these unigrams to your bag of words, your representation of the text does not really represent the concept \"immigration hearing\".  That means when you draw conclusions about lexical units during downsteam analysis, you won't be able to draw conclusions about \"immigration hearing\" (e.g., what liberal and conservative judges say about an \"immigration hearing\"). \n",
        "\n",
        "For this reason, it sometimes may make sense for you to analyze groups of words instead of unigrams. This tutorial will show you how to do NLP with groups of words, which we will call **phrases** or **multi-word expressions**. We will show how to (A) extract phrases from documents and (B) use these phrases for downstream analysis. \n",
        "\n",
        "## High-level takeaways from this code\n",
        "\n",
        "1. **You can use phrases when you do NLP.** There are many existing tools and methods for extracting phrases (e.g. [PyATE](https://github.com/kevinlu1248/pyate)). In this tutorial, we will explore using phrases extracted via Python package [phrasemachine](https://github.com/slanglab/phrasemachine) which you can install using `pip install phrasemachine`. Phrasemachine is based on the method described in the paper [Bag of What](https://aclanthology.org/W16-5615.pdf).\n",
        "2. **You can be creative and define phrases in a way that makes sense for your problem.**  `phrasemachine` uses a particular regular expression over part-of-speech tags to extract phrases. The particular phrasemachine patterns are often useful. But in your work, think of other kinds of phrasal patterns you might want to extract using other regular expressions. For instance, at the end of the notebook I show how to use phrasemachine to extract phrases matching the regex `(theory)(of)D*(A|N)*N)` which extracts things like (e.g. \"theory of federal supremacy\"). (Note: this example is a regex over both words and part-of-speech tags. I use a hack-y way to extract phrases matching this regex at the end of the code, but there are other ways to do this too.)"
      ],
      "metadata": {
        "id": "d6wxORogR755"
      }
    },
    {
      "cell_type": "code",
      "source": [
        "! wget https://zissou.infosci.cornell.edu/convokit/datasets/supreme-corpus/cases.jsonl -O cases.jsonl\n",
        "! pip install phrasemachine\n",
        "! pip install tqdm"
      ],
      "metadata": {
        "colab": {
          "base_uri": "https://localhost:8080/"
        },
        "id": "j_GLnbRwemk6",
        "outputId": "e9d59886-36e5-4bc4-dfc3-605cd960a7d5"
      },
      "execution_count": null,
      "outputs": [
        {
          "output_type": "stream",
          "name": "stdout",
          "text": [
            "--2022-02-17 16:06:49--  https://zissou.infosci.cornell.edu/convokit/datasets/supreme-corpus/cases.jsonl\n",
            "Resolving zissou.infosci.cornell.edu (zissou.infosci.cornell.edu)... 128.253.51.178\n",
            "Connecting to zissou.infosci.cornell.edu (zissou.infosci.cornell.edu)|128.253.51.178|:443... connected.\n",
            "HTTP request sent, awaiting response... 200 OK\n",
            "Length: 13337468 (13M) [application/octet-stream]\n",
            "Saving to: ‘cases.jsonl’\n",
            "\n",
            "cases.jsonl         100%[===================>]  12.72M  40.6MB/s    in 0.3s    \n",
            "\n",
            "2022-02-17 16:06:49 (40.6 MB/s) - ‘cases.jsonl’ saved [13337468/13337468]\n",
            "\n",
            "Collecting phrasemachine\n",
            "  Downloading phrasemachine-1.0.7.tar.gz (2.7 MB)\n",
            "\u001b[K     |████████████████████████████████| 2.7 MB 3.2 MB/s \n",
            "\u001b[?25hRequirement already satisfied: nltk in /usr/local/lib/python3.7/dist-packages (from phrasemachine) (3.2.5)\n",
            "Requirement already satisfied: six in /usr/local/lib/python3.7/dist-packages (from nltk->phrasemachine) (1.15.0)\n",
            "Building wheels for collected packages: phrasemachine\n",
            "  Building wheel for phrasemachine (setup.py) ... \u001b[?25l\u001b[?25hdone\n",
            "  Created wheel for phrasemachine: filename=phrasemachine-1.0.7-py3-none-any.whl size=2694883 sha256=757f22ca024a81e25faeea75383d787a85aec924c8dd0184dadfe669c8003f3a\n",
            "  Stored in directory: /root/.cache/pip/wheels/49/d9/e6/e8948b0664fc1e5135444099525ae3f67cebc0bcddf0a7b453\n",
            "Successfully built phrasemachine\n",
            "Installing collected packages: phrasemachine\n",
            "Successfully installed phrasemachine-1.0.7\n",
            "Requirement already satisfied: tqdm in /usr/local/lib/python3.7/dist-packages (4.62.3)\n"
          ]
        }
      ]
    },
    {
      "cell_type": "code",
      "source": [
        "! pip install convokit==2.5.2 # later versions seem to have some issue w/ a torch dependency. If you go to runtime-> restart runtime this seems to work (AH: Feb 15, 22)"
      ],
      "metadata": {
        "colab": {
          "base_uri": "https://localhost:8080/"
        },
        "id": "27rCxSbClvm9",
        "outputId": "ac3fe56f-0268-4d80-e0ca-06a391b52611"
      },
      "execution_count": null,
      "outputs": [
        {
          "output_type": "stream",
          "name": "stdout",
          "text": [
            "Collecting convokit==2.5.2\n",
            "  Downloading convokit-2.5.2.tar.gz (167 kB)\n",
            "\u001b[K     |████████████████████████████████| 167 kB 2.6 MB/s \n",
            "\u001b[?25hRequirement already satisfied: matplotlib>=3.0.0 in /usr/local/lib/python3.7/dist-packages (from convokit==2.5.2) (3.2.2)\n",
            "Requirement already satisfied: pandas>=0.23.4 in /usr/local/lib/python3.7/dist-packages (from convokit==2.5.2) (1.3.5)\n",
            "Collecting msgpack-numpy>=0.4.3.2\n",
            "  Downloading msgpack_numpy-0.4.7.1-py2.py3-none-any.whl (6.7 kB)\n",
            "Collecting spacy>=2.3.5\n",
            "  Downloading spacy-3.2.2-cp37-cp37m-manylinux_2_17_x86_64.manylinux2014_x86_64.whl (6.0 MB)\n",
            "\u001b[K     |████████████████████████████████| 6.0 MB 4.1 MB/s \n",
            "\u001b[?25hRequirement already satisfied: scipy>=1.1.0 in /usr/local/lib/python3.7/dist-packages (from convokit==2.5.2) (1.4.1)\n",
            "Requirement already satisfied: scikit-learn>=0.20.0 in /usr/local/lib/python3.7/dist-packages (from convokit==2.5.2) (1.0.2)\n",
            "Collecting nltk>=3.4\n",
            "  Downloading nltk-3.7-py3-none-any.whl (1.5 MB)\n",
            "\u001b[K     |████████████████████████████████| 1.5 MB 18.1 MB/s \n",
            "\u001b[?25hRequirement already satisfied: dill>=0.2.9 in /usr/local/lib/python3.7/dist-packages (from convokit==2.5.2) (0.3.4)\n",
            "Requirement already satisfied: joblib>=0.13.2 in /usr/local/lib/python3.7/dist-packages (from convokit==2.5.2) (1.1.0)\n",
            "Collecting clean-text>=0.1.1\n",
            "  Downloading clean_text-0.6.0-py3-none-any.whl (11 kB)\n",
            "Collecting unidecode>=1.1.1\n",
            "  Downloading Unidecode-1.3.2-py3-none-any.whl (235 kB)\n",
            "\u001b[K     |████████████████████████████████| 235 kB 18.3 MB/s \n",
            "\u001b[?25hCollecting ftfy<7.0,>=6.0\n",
            "  Downloading ftfy-6.1.1-py3-none-any.whl (53 kB)\n",
            "\u001b[K     |████████████████████████████████| 53 kB 1.4 MB/s \n",
            "\u001b[?25hCollecting emoji<2.0.0,>=1.0.0\n",
            "  Downloading emoji-1.6.3.tar.gz (174 kB)\n",
            "\u001b[K     |████████████████████████████████| 174 kB 17.0 MB/s \n",
            "\u001b[?25hRequirement already satisfied: wcwidth>=0.2.5 in /usr/local/lib/python3.7/dist-packages (from ftfy<7.0,>=6.0->clean-text>=0.1.1->convokit==2.5.2) (0.2.5)\n",
            "Requirement already satisfied: cycler>=0.10 in /usr/local/lib/python3.7/dist-packages (from matplotlib>=3.0.0->convokit==2.5.2) (0.11.0)\n",
            "Requirement already satisfied: python-dateutil>=2.1 in /usr/local/lib/python3.7/dist-packages (from matplotlib>=3.0.0->convokit==2.5.2) (2.8.2)\n",
            "Requirement already satisfied: numpy>=1.11 in /usr/local/lib/python3.7/dist-packages (from matplotlib>=3.0.0->convokit==2.5.2) (1.21.5)\n",
            "Requirement already satisfied: kiwisolver>=1.0.1 in /usr/local/lib/python3.7/dist-packages (from matplotlib>=3.0.0->convokit==2.5.2) (1.3.2)\n",
            "Requirement already satisfied: pyparsing!=2.0.4,!=2.1.2,!=2.1.6,>=2.0.1 in /usr/local/lib/python3.7/dist-packages (from matplotlib>=3.0.0->convokit==2.5.2) (3.0.7)\n",
            "Requirement already satisfied: msgpack>=0.5.2 in /usr/local/lib/python3.7/dist-packages (from msgpack-numpy>=0.4.3.2->convokit==2.5.2) (1.0.3)\n",
            "Collecting regex>=2021.8.3\n",
            "  Downloading regex-2022.1.18-cp37-cp37m-manylinux_2_17_x86_64.manylinux2014_x86_64.whl (748 kB)\n",
            "\u001b[K     |████████████████████████████████| 748 kB 20.0 MB/s \n",
            "\u001b[?25hRequirement already satisfied: click in /usr/local/lib/python3.7/dist-packages (from nltk>=3.4->convokit==2.5.2) (7.1.2)\n",
            "Requirement already satisfied: tqdm in /usr/local/lib/python3.7/dist-packages (from nltk>=3.4->convokit==2.5.2) (4.62.3)\n",
            "Requirement already satisfied: pytz>=2017.3 in /usr/local/lib/python3.7/dist-packages (from pandas>=0.23.4->convokit==2.5.2) (2018.9)\n",
            "Requirement already satisfied: six>=1.5 in /usr/local/lib/python3.7/dist-packages (from python-dateutil>=2.1->matplotlib>=3.0.0->convokit==2.5.2) (1.15.0)\n",
            "Requirement already satisfied: threadpoolctl>=2.0.0 in /usr/local/lib/python3.7/dist-packages (from scikit-learn>=0.20.0->convokit==2.5.2) (3.1.0)\n",
            "Collecting spacy-legacy<3.1.0,>=3.0.8\n",
            "  Downloading spacy_legacy-3.0.8-py2.py3-none-any.whl (14 kB)\n",
            "Requirement already satisfied: cymem<2.1.0,>=2.0.2 in /usr/local/lib/python3.7/dist-packages (from spacy>=2.3.5->convokit==2.5.2) (2.0.6)\n",
            "Collecting thinc<8.1.0,>=8.0.12\n",
            "  Downloading thinc-8.0.13-cp37-cp37m-manylinux_2_17_x86_64.manylinux2014_x86_64.whl (628 kB)\n",
            "\u001b[K     |████████████████████████████████| 628 kB 19.5 MB/s \n",
            "\u001b[?25hCollecting srsly<3.0.0,>=2.4.1\n",
            "  Downloading srsly-2.4.2-cp37-cp37m-manylinux_2_17_x86_64.manylinux2014_x86_64.whl (451 kB)\n",
            "\u001b[K     |████████████████████████████████| 451 kB 19.0 MB/s \n",
            "\u001b[?25hCollecting typer<0.5.0,>=0.3.0\n",
            "  Downloading typer-0.4.0-py3-none-any.whl (27 kB)\n",
            "Requirement already satisfied: packaging>=20.0 in /usr/local/lib/python3.7/dist-packages (from spacy>=2.3.5->convokit==2.5.2) (21.3)\n",
            "Collecting pathy>=0.3.5\n",
            "  Downloading pathy-0.6.1-py3-none-any.whl (42 kB)\n",
            "\u001b[K     |████████████████████████████████| 42 kB 1.3 MB/s \n",
            "\u001b[?25hRequirement already satisfied: typing-extensions<4.0.0.0,>=3.7.4 in /usr/local/lib/python3.7/dist-packages (from spacy>=2.3.5->convokit==2.5.2) (3.10.0.2)\n",
            "Collecting catalogue<2.1.0,>=2.0.6\n",
            "  Downloading catalogue-2.0.6-py3-none-any.whl (17 kB)\n",
            "Requirement already satisfied: murmurhash<1.1.0,>=0.28.0 in /usr/local/lib/python3.7/dist-packages (from spacy>=2.3.5->convokit==2.5.2) (1.0.6)\n",
            "Requirement already satisfied: setuptools in /usr/local/lib/python3.7/dist-packages (from spacy>=2.3.5->convokit==2.5.2) (57.4.0)\n",
            "Collecting spacy-loggers<2.0.0,>=1.0.0\n",
            "  Downloading spacy_loggers-1.0.1-py3-none-any.whl (7.0 kB)\n",
            "Collecting pydantic!=1.8,!=1.8.1,<1.9.0,>=1.7.4\n",
            "  Downloading pydantic-1.8.2-cp37-cp37m-manylinux2014_x86_64.whl (10.1 MB)\n",
            "\u001b[K     |████████████████████████████████| 10.1 MB 17.9 MB/s \n",
            "\u001b[?25hRequirement already satisfied: requests<3.0.0,>=2.13.0 in /usr/local/lib/python3.7/dist-packages (from spacy>=2.3.5->convokit==2.5.2) (2.23.0)\n",
            "Requirement already satisfied: jinja2 in /usr/local/lib/python3.7/dist-packages (from spacy>=2.3.5->convokit==2.5.2) (2.11.3)\n",
            "Requirement already satisfied: preshed<3.1.0,>=3.0.2 in /usr/local/lib/python3.7/dist-packages (from spacy>=2.3.5->convokit==2.5.2) (3.0.6)\n",
            "Requirement already satisfied: blis<0.8.0,>=0.4.0 in /usr/local/lib/python3.7/dist-packages (from spacy>=2.3.5->convokit==2.5.2) (0.4.1)\n",
            "Collecting langcodes<4.0.0,>=3.2.0\n",
            "  Downloading langcodes-3.3.0-py3-none-any.whl (181 kB)\n",
            "\u001b[K     |████████████████████████████████| 181 kB 20.3 MB/s \n",
            "\u001b[?25hRequirement already satisfied: wasabi<1.1.0,>=0.8.1 in /usr/local/lib/python3.7/dist-packages (from spacy>=2.3.5->convokit==2.5.2) (0.9.0)\n",
            "Requirement already satisfied: zipp>=0.5 in /usr/local/lib/python3.7/dist-packages (from catalogue<2.1.0,>=2.0.6->spacy>=2.3.5->convokit==2.5.2) (3.7.0)\n",
            "Requirement already satisfied: smart-open<6.0.0,>=5.0.0 in /usr/local/lib/python3.7/dist-packages (from pathy>=0.3.5->spacy>=2.3.5->convokit==2.5.2) (5.2.1)\n",
            "Requirement already satisfied: urllib3!=1.25.0,!=1.25.1,<1.26,>=1.21.1 in /usr/local/lib/python3.7/dist-packages (from requests<3.0.0,>=2.13.0->spacy>=2.3.5->convokit==2.5.2) (1.24.3)\n",
            "Requirement already satisfied: idna<3,>=2.5 in /usr/local/lib/python3.7/dist-packages (from requests<3.0.0,>=2.13.0->spacy>=2.3.5->convokit==2.5.2) (2.10)\n",
            "Requirement already satisfied: chardet<4,>=3.0.2 in /usr/local/lib/python3.7/dist-packages (from requests<3.0.0,>=2.13.0->spacy>=2.3.5->convokit==2.5.2) (3.0.4)\n",
            "Requirement already satisfied: certifi>=2017.4.17 in /usr/local/lib/python3.7/dist-packages (from requests<3.0.0,>=2.13.0->spacy>=2.3.5->convokit==2.5.2) (2021.10.8)\n",
            "Requirement already satisfied: MarkupSafe>=0.23 in /usr/local/lib/python3.7/dist-packages (from jinja2->spacy>=2.3.5->convokit==2.5.2) (2.0.1)\n",
            "Building wheels for collected packages: convokit, emoji\n",
            "  Building wheel for convokit (setup.py) ... \u001b[?25l\u001b[?25hdone\n",
            "  Created wheel for convokit: filename=convokit-2.5.2-py3-none-any.whl size=203280 sha256=20cda9f05d4ffe394ba48ddd51ea95166df7d6bc3a2dee1a0bdc93714fa19e52\n",
            "  Stored in directory: /root/.cache/pip/wheels/43/28/54/f09f7f6ffd8fe1d6aafeb89b36609f9b2334dbfe5179dd9eb9\n",
            "  Building wheel for emoji (setup.py) ... \u001b[?25l\u001b[?25hdone\n",
            "  Created wheel for emoji: filename=emoji-1.6.3-py3-none-any.whl size=170298 sha256=4493b7585e0a607640b1fefb1375421fe7f77fff5a8a7aea1eab3716ae072136\n",
            "  Stored in directory: /root/.cache/pip/wheels/03/8b/d7/ad579fbef83c287215c0caab60fb0ae0f30c4d7ce5f580eade\n",
            "Successfully built convokit emoji\n",
            "Installing collected packages: catalogue, typer, srsly, pydantic, thinc, spacy-loggers, spacy-legacy, regex, pathy, langcodes, ftfy, emoji, unidecode, spacy, nltk, msgpack-numpy, clean-text, convokit\n",
            "  Attempting uninstall: catalogue\n",
            "    Found existing installation: catalogue 1.0.0\n",
            "    Uninstalling catalogue-1.0.0:\n",
            "      Successfully uninstalled catalogue-1.0.0\n",
            "  Attempting uninstall: srsly\n",
            "    Found existing installation: srsly 1.0.5\n",
            "    Uninstalling srsly-1.0.5:\n",
            "      Successfully uninstalled srsly-1.0.5\n",
            "  Attempting uninstall: thinc\n",
            "    Found existing installation: thinc 7.4.0\n",
            "    Uninstalling thinc-7.4.0:\n",
            "      Successfully uninstalled thinc-7.4.0\n",
            "  Attempting uninstall: regex\n",
            "    Found existing installation: regex 2019.12.20\n",
            "    Uninstalling regex-2019.12.20:\n",
            "      Successfully uninstalled regex-2019.12.20\n",
            "  Attempting uninstall: spacy\n",
            "    Found existing installation: spacy 2.2.4\n",
            "    Uninstalling spacy-2.2.4:\n",
            "      Successfully uninstalled spacy-2.2.4\n",
            "  Attempting uninstall: nltk\n",
            "    Found existing installation: nltk 3.2.5\n",
            "    Uninstalling nltk-3.2.5:\n",
            "      Successfully uninstalled nltk-3.2.5\n",
            "Successfully installed catalogue-2.0.6 clean-text-0.6.0 convokit-2.5.2 emoji-1.6.3 ftfy-6.1.1 langcodes-3.3.0 msgpack-numpy-0.4.7.1 nltk-3.7 pathy-0.6.1 pydantic-1.8.2 regex-2022.1.18 spacy-3.2.2 spacy-legacy-3.0.8 spacy-loggers-1.0.1 srsly-2.4.2 thinc-8.0.13 typer-0.4.0 unidecode-1.3.2\n"
          ]
        }
      ]
    },
    {
      "cell_type": "code",
      "source": [
        "from convokit import Corpus, download # install the corpus here\n",
        "corpus = Corpus(filename=download(\"supreme-corpus\")) # download the corpus"
      ],
      "metadata": {
        "colab": {
          "base_uri": "https://localhost:8080/"
        },
        "id": "N5PLWwu-kwpW",
        "outputId": "e66278fb-35b5-40df-c58f-c0e434609289"
      },
      "execution_count": null,
      "outputs": [
        {
          "output_type": "stream",
          "name": "stdout",
          "text": [
            "Downloading supreme-corpus to /root/.convokit/downloads/supreme-corpus\n",
            "Downloading supreme-corpus from http://zissou.infosci.cornell.edu/convokit/datasets/supreme-corpus/supreme-corpus.zip (1255.8MB)... Done\n"
          ]
        }
      ]
    },
    {
      "cell_type": "markdown",
      "source": [
        "### High-level plan\n",
        "\n",
        "- Extract phrases from supreme court oral arguments\n",
        "- Assign partisanship scores to phrases based on how frequently they occur in comments from liberal vs. conservative justices\n",
        "- Plot them by frequency (x-axis) and partisanship (y-axis, color and size)\n",
        "- Based on [Fightin' words](http://languagelog.ldc.upenn.edu/myl/Monroe.pdf) from Monroe, Colaresi and Quinn."
      ],
      "metadata": {
        "id": "6Lf4f86k4906"
      }
    },
    {
      "cell_type": "markdown",
      "source": [
        "### High-level result\n",
        "\n",
        "(Run code in cells below first or `make_plot` won't run)"
      ],
      "metadata": {
        "id": "0MkmJpi0czkf"
      }
    },
    {
      "cell_type": "code",
      "source": [
        "make_plot(tops_words)  # this line needs the code below to run. I wanted to start with the high-level takeaway. Run the cells below to get this line to work"
      ],
      "metadata": {
        "colab": {
          "base_uri": "https://localhost:8080/",
          "height": 1068
        },
        "id": "lM-Z-11pe1D1",
        "outputId": "41a7dfa8-ae46-4a55-e596-41b64eb12660"
      },
      "execution_count": null,
      "outputs": [
        {
          "output_type": "execute_result",
          "data": {
            "text/plain": [
              "alt.LayerChart(...)"
            ],
            "text/html": [
              "\n",
              "<div id=\"altair-viz-89c886ee6ac844daa7dcdbf50766f452\"></div>\n",
              "<script type=\"text/javascript\">\n",
              "  var VEGA_DEBUG = (typeof VEGA_DEBUG == \"undefined\") ? {} : VEGA_DEBUG;\n",
              "  (function(spec, embedOpt){\n",
              "    let outputDiv = document.currentScript.previousElementSibling;\n",
              "    if (outputDiv.id !== \"altair-viz-89c886ee6ac844daa7dcdbf50766f452\") {\n",
              "      outputDiv = document.getElementById(\"altair-viz-89c886ee6ac844daa7dcdbf50766f452\");\n",
              "    }\n",
              "    const paths = {\n",
              "      \"vega\": \"https://cdn.jsdelivr.net/npm//vega@5?noext\",\n",
              "      \"vega-lib\": \"https://cdn.jsdelivr.net/npm//vega-lib?noext\",\n",
              "      \"vega-lite\": \"https://cdn.jsdelivr.net/npm//vega-lite@4.17.0?noext\",\n",
              "      \"vega-embed\": \"https://cdn.jsdelivr.net/npm//vega-embed@6?noext\",\n",
              "    };\n",
              "\n",
              "    function maybeLoadScript(lib, version) {\n",
              "      var key = `${lib.replace(\"-\", \"\")}_version`;\n",
              "      return (VEGA_DEBUG[key] == version) ?\n",
              "        Promise.resolve(paths[lib]) :\n",
              "        new Promise(function(resolve, reject) {\n",
              "          var s = document.createElement('script');\n",
              "          document.getElementsByTagName(\"head\")[0].appendChild(s);\n",
              "          s.async = true;\n",
              "          s.onload = () => {\n",
              "            VEGA_DEBUG[key] = version;\n",
              "            return resolve(paths[lib]);\n",
              "          };\n",
              "          s.onerror = () => reject(`Error loading script: ${paths[lib]}`);\n",
              "          s.src = paths[lib];\n",
              "        });\n",
              "    }\n",
              "\n",
              "    function showError(err) {\n",
              "      outputDiv.innerHTML = `<div class=\"error\" style=\"color:red;\">${err}</div>`;\n",
              "      throw err;\n",
              "    }\n",
              "\n",
              "    function displayChart(vegaEmbed) {\n",
              "      vegaEmbed(outputDiv, spec, embedOpt)\n",
              "        .catch(err => showError(`Javascript Error: ${err.message}<br>This usually means there's a typo in your chart specification. See the javascript console for the full traceback.`));\n",
              "    }\n",
              "\n",
              "    if(typeof define === \"function\" && define.amd) {\n",
              "      requirejs.config({paths});\n",
              "      require([\"vega-embed\"], displayChart, err => showError(`Error loading script: ${err.message}`));\n",
              "    } else {\n",
              "      maybeLoadScript(\"vega\", \"5\")\n",
              "        .then(() => maybeLoadScript(\"vega-lite\", \"4.17.0\"))\n",
              "        .then(() => maybeLoadScript(\"vega-embed\", \"6\"))\n",
              "        .catch(showError)\n",
              "        .then(() => displayChart(vegaEmbed));\n",
              "    }\n",
              "  })({\"config\": {\"view\": {\"continuousWidth\": 400, \"continuousHeight\": 300}}, \"layer\": [{\"mark\": \"circle\", \"encoding\": {\"color\": {\"field\": \"score\", \"scale\": {\"scheme\": \"redyellowblue\"}, \"type\": \"quantitative\"}, \"size\": {\"field\": \"score_abs\", \"type\": \"quantitative\"}, \"x\": {\"field\": \"count\", \"type\": \"quantitative\"}, \"y\": {\"field\": \"score\", \"type\": \"quantitative\"}}, \"height\": 1000, \"width\": 1200}, {\"mark\": {\"type\": \"text\", \"align\": \"left\", \"baseline\": \"middle\", \"dx\": 7}, \"encoding\": {\"text\": {\"field\": \"label\", \"type\": \"nominal\"}, \"x\": {\"field\": \"count\", \"type\": \"quantitative\"}, \"y\": {\"field\": \"score\", \"type\": \"quantitative\"}}, \"height\": 1000, \"width\": 1200}], \"data\": {\"name\": \"data-23aaa92cf80126ff3be8d540b0e5755e\"}, \"$schema\": \"https://vega.github.io/schema/vega-lite/v4.17.0.json\", \"datasets\": {\"data-23aaa92cf80126ff3be8d540b0e5755e\": [{\"score\": 4.579404670468758e-05, \"phrase\": \"did,\", \"count\": 166, \"score_abs\": 4.579404670468758e-05, \"label\": \"did,\"}, {\"score\": 4.5845220322419426e-05, \"phrase\": \"women\", \"count\": 189, \"score_abs\": 4.5845220322419426e-05, \"label\": \"women\"}, {\"score\": 4.6175409810090374e-05, \"phrase\": \"did.\", \"count\": 158, \"score_abs\": 4.6175409810090374e-05, \"label\": \"did\"}, {\"score\": 4.643493184397115e-05, \"phrase\": \"says.\", \"count\": 167, \"score_abs\": 4.643493184397115e-05, \"label\": \"says\"}, {\"score\": 4.648975940692455e-05, \"phrase\": \"--Mr.\", \"count\": 84, \"score_abs\": 4.648975940692455e-05, \"label\": \"--Mr\"}, {\"score\": 4.655677291549316e-05, \"phrase\": \"saying.\", \"count\": 150, \"score_abs\": 4.655677291549316e-05, \"label\": \"saying\"}, {\"score\": 4.6643280260120084e-05, \"phrase\": \"acting\", \"count\": 153, \"score_abs\": 4.6643280260120084e-05, \"label\": \"acting\"}, {\"score\": 4.785438308489706e-05, \"phrase\": \"because,\", \"count\": 195, \"score_abs\": 4.785438308489706e-05, \"label\": \"because,\"}, {\"score\": 4.8581775568807555e-05, \"phrase\": \"uses\", \"count\": 199, \"score_abs\": 4.8581775568807555e-05, \"label\": \"uses\"}, {\"score\": 4.8998472401105424e-05, \"phrase\": \"anyone\", \"count\": 171, \"score_abs\": 4.8998472401105424e-05, \"label\": \"anyone\"}, {\"score\": 5.002072064579178e-05, \"phrase\": \"like,\", \"count\": 164, \"score_abs\": 5.002072064579178e-05, \"label\": \"like,\"}, {\"score\": 5.083462047432919e-05, \"phrase\": \"Excuse\", \"count\": 171, \"score_abs\": 5.083462047432919e-05, \"label\": \"Excuse\"}, {\"score\": 5.1459665722775994e-05, \"phrase\": \"many,\", \"count\": 129, \"score_abs\": 5.1459665722775994e-05, \"label\": \"many,\"}, {\"score\": 5.2014043517432646e-05, \"phrase\": \"see.\", \"count\": 127, \"score_abs\": 5.2014043517432646e-05, \"label\": \"see\"}, {\"score\": 5.398787255301519e-05, \"phrase\": \"woman\", \"count\": 153, \"score_abs\": 5.398787255301519e-05, \"label\": \"woman\"}, {\"score\": 5.5875194243970805e-05, \"phrase\": \"She\", \"count\": 176, \"score_abs\": 5.5875194243970805e-05, \"label\": \"She\"}, {\"score\": 5.6449065874685767e-05, \"phrase\": \"indeed\", \"count\": 111, \"score_abs\": 5.6449065874685767e-05, \"label\": \"indeed\"}, {\"score\": 5.6795095253193477e-05, \"phrase\": \"adversary\", \"count\": 123, \"score_abs\": 5.6795095253193477e-05, \"label\": \"adversary\"}, {\"score\": 6.181617518677677e-05, \"phrase\": \"May\", \"count\": 191, \"score_abs\": 6.181617518677677e-05, \"label\": \"May\"}, {\"score\": 7.065088617438794e-05, \"phrase\": \"piece\", \"count\": 179, \"score_abs\": 7.065088617438794e-05, \"label\": \"piece\"}, {\"score\": -0.00017920293274640428, \"phrase\": \"Counsel.\", \"count\": 153, \"score_abs\": 0.00017920293274640428, \"label\": \"Counsel\"}, {\"score\": -0.00012867535397846616, \"phrase\": \"friend\", \"count\": 186, \"score_abs\": 0.00012867535397846616, \"label\": \"friend\"}, {\"score\": -0.00011874772729237847, \"phrase\": \"Sure.\", \"count\": 127, \"score_abs\": 0.00011874772729237847, \"label\": \"Sure\"}, {\"score\": -0.00011060872900700427, \"phrase\": \"type\", \"count\": 197, \"score_abs\": 0.00011060872900700427, \"label\": \"type\"}, {\"score\": -0.00010670859060834948, \"phrase\": \"General.\", \"count\": 120, \"score_abs\": 0.00010670859060834948, \"label\": \"General\"}, {\"score\": -0.00010438873219425923, \"phrase\": \"Kagan's\", \"count\": 158, \"score_abs\": 0.00010438873219425923, \"label\": \"Kagan's\"}, {\"score\": -8.311768152637949e-05, \"phrase\": \"sorry\", \"count\": 174, \"score_abs\": 8.311768152637949e-05, \"label\": \"sorry\"}, {\"score\": -8.145454814240958e-05, \"phrase\": \"reference\", \"count\": 168, \"score_abs\": 8.145454814240958e-05, \"label\": \"reference\"}, {\"score\": -8.05894746961403e-05, \"phrase\": \"Breyer's\", \"count\": 198, \"score_abs\": 8.05894746961403e-05, \"label\": \"Breyer's\"}, {\"score\": -7.68111773690075e-05, \"phrase\": \"degree\", \"count\": 138, \"score_abs\": 7.68111773690075e-05, \"label\": \"degree\"}, {\"score\": -7.65321614990684e-05, \"phrase\": \"Clement.\", \"count\": 84, \"score_abs\": 7.65321614990684e-05, \"label\": \"Clement\"}, {\"score\": -7.58595965781113e-05, \"phrase\": \"hypothetical,\", \"count\": 171, \"score_abs\": 7.58595965781113e-05, \"label\": \"hypothetical,\"}, {\"score\": -7.433414415650017e-05, \"phrase\": \"4\", \"count\": 139, \"score_abs\": 7.433414415650017e-05, \"label\": \"4\"}, {\"score\": -6.998562914387396e-05, \"phrase\": \"concerns\", \"count\": 120, \"score_abs\": 6.998562914387396e-05, \"label\": \"concerns\"}, {\"score\": -6.930941027769532e-05, \"phrase\": \"interrupt\", \"count\": 101, \"score_abs\": 6.930941027769532e-05, \"label\": \"interrupt\"}, {\"score\": -6.855033801211129e-05, \"phrase\": \"analysis\", \"count\": 191, \"score_abs\": 6.855033801211129e-05, \"label\": \"analysis\"}, {\"score\": -6.253503567029362e-05, \"phrase\": \"Kneedler.\", \"count\": 60, \"score_abs\": 6.253503567029362e-05, \"label\": \"Kneedler\"}, {\"score\": -6.166996222402434e-05, \"phrase\": \"mens\", \"count\": 90, \"score_abs\": 6.166996222402434e-05, \"label\": \"mens\"}, {\"score\": -6.161878860629251e-05, \"phrase\": \"sorts\", \"count\": 113, \"score_abs\": 6.161878860629251e-05, \"label\": \"sorts\"}, {\"score\": -6.125326539172648e-05, \"phrase\": \"Justice.\", \"count\": 62, \"score_abs\": 6.125326539172648e-05, \"label\": \"Justice\"}]}}, {\"mode\": \"vega-lite\"});\n",
              "</script>"
            ]
          },
          "metadata": {},
          "execution_count": 25
        }
      ]
    },
    {
      "cell_type": "code",
      "source": [
        "make_plot(tops_phrases) # this line needs the code below to run. I wanted to start with the high-level takeaway. Run the cells below to get this line to work"
      ],
      "metadata": {
        "colab": {
          "base_uri": "https://localhost:8080/",
          "height": 1068
        },
        "id": "ZIyz7qbo4XEP",
        "outputId": "e69deed8-a00a-4158-9356-4561500907cf"
      },
      "execution_count": null,
      "outputs": [
        {
          "output_type": "execute_result",
          "data": {
            "text/plain": [
              "alt.LayerChart(...)"
            ],
            "text/html": [
              "\n",
              "<div id=\"altair-viz-6379a2fec5264ff7860392945b76430d\"></div>\n",
              "<script type=\"text/javascript\">\n",
              "  var VEGA_DEBUG = (typeof VEGA_DEBUG == \"undefined\") ? {} : VEGA_DEBUG;\n",
              "  (function(spec, embedOpt){\n",
              "    let outputDiv = document.currentScript.previousElementSibling;\n",
              "    if (outputDiv.id !== \"altair-viz-6379a2fec5264ff7860392945b76430d\") {\n",
              "      outputDiv = document.getElementById(\"altair-viz-6379a2fec5264ff7860392945b76430d\");\n",
              "    }\n",
              "    const paths = {\n",
              "      \"vega\": \"https://cdn.jsdelivr.net/npm//vega@5?noext\",\n",
              "      \"vega-lib\": \"https://cdn.jsdelivr.net/npm//vega-lib?noext\",\n",
              "      \"vega-lite\": \"https://cdn.jsdelivr.net/npm//vega-lite@4.17.0?noext\",\n",
              "      \"vega-embed\": \"https://cdn.jsdelivr.net/npm//vega-embed@6?noext\",\n",
              "    };\n",
              "\n",
              "    function maybeLoadScript(lib, version) {\n",
              "      var key = `${lib.replace(\"-\", \"\")}_version`;\n",
              "      return (VEGA_DEBUG[key] == version) ?\n",
              "        Promise.resolve(paths[lib]) :\n",
              "        new Promise(function(resolve, reject) {\n",
              "          var s = document.createElement('script');\n",
              "          document.getElementsByTagName(\"head\")[0].appendChild(s);\n",
              "          s.async = true;\n",
              "          s.onload = () => {\n",
              "            VEGA_DEBUG[key] = version;\n",
              "            return resolve(paths[lib]);\n",
              "          };\n",
              "          s.onerror = () => reject(`Error loading script: ${paths[lib]}`);\n",
              "          s.src = paths[lib];\n",
              "        });\n",
              "    }\n",
              "\n",
              "    function showError(err) {\n",
              "      outputDiv.innerHTML = `<div class=\"error\" style=\"color:red;\">${err}</div>`;\n",
              "      throw err;\n",
              "    }\n",
              "\n",
              "    function displayChart(vegaEmbed) {\n",
              "      vegaEmbed(outputDiv, spec, embedOpt)\n",
              "        .catch(err => showError(`Javascript Error: ${err.message}<br>This usually means there's a typo in your chart specification. See the javascript console for the full traceback.`));\n",
              "    }\n",
              "\n",
              "    if(typeof define === \"function\" && define.amd) {\n",
              "      requirejs.config({paths});\n",
              "      require([\"vega-embed\"], displayChart, err => showError(`Error loading script: ${err.message}`));\n",
              "    } else {\n",
              "      maybeLoadScript(\"vega\", \"5\")\n",
              "        .then(() => maybeLoadScript(\"vega-lite\", \"4.17.0\"))\n",
              "        .then(() => maybeLoadScript(\"vega-embed\", \"6\"))\n",
              "        .catch(showError)\n",
              "        .then(() => displayChart(vegaEmbed));\n",
              "    }\n",
              "  })({\"config\": {\"view\": {\"continuousWidth\": 400, \"continuousHeight\": 300}}, \"layer\": [{\"mark\": \"circle\", \"encoding\": {\"color\": {\"field\": \"score\", \"scale\": {\"scheme\": \"redyellowblue\"}, \"type\": \"quantitative\"}, \"size\": {\"field\": \"score_abs\", \"type\": \"quantitative\"}, \"x\": {\"field\": \"count\", \"type\": \"quantitative\"}, \"y\": {\"field\": \"score\", \"type\": \"quantitative\"}}, \"height\": 1000, \"width\": 1200}, {\"mark\": {\"type\": \"text\", \"align\": \"left\", \"baseline\": \"middle\", \"dx\": 7}, \"encoding\": {\"text\": {\"field\": \"label\", \"type\": \"nominal\"}, \"x\": {\"field\": \"count\", \"type\": \"quantitative\"}, \"y\": {\"field\": \"score\", \"type\": \"quantitative\"}}, \"height\": 1000, \"width\": 1200}], \"data\": {\"name\": \"data-e814125f7593d1c4b587ef684eb4b4a1\"}, \"$schema\": \"https://vega.github.io/schema/vega-lite/v4.17.0.json\", \"datasets\": {\"data-e814125f7593d1c4b587ef684eb4b4a1\": [{\"score\": 0.00024496346255217533, \"phrase\": \"tucker act\", \"count\": 72, \"score_abs\": 0.00024496346255217533, \"label\": \"tucker act\"}, {\"score\": 0.0002487910750111998, \"phrase\": \"federal statute\", \"count\": 117, \"score_abs\": 0.0002487910750111998, \"label\": \"federal statute\"}, {\"score\": 0.00025362580647949153, \"phrase\": \"general jurisdiction\", \"count\": 63, \"score_abs\": 0.00025362580647949153, \"label\": \"general jurisdiction\"}, {\"score\": 0.00025436448491380066, \"phrase\": \"good reason\", \"count\": 84, \"score_abs\": 0.00025436448491380066, \"label\": \"good reason\"}, {\"score\": 0.00025628955397613177, \"phrase\": \"sovereign immunity\", \"count\": 160, \"score_abs\": 0.00025628955397613177, \"label\": \"sovereign immunity\"}, {\"score\": 0.00026405647351602205, \"phrase\": \"word \\u201c\", \"count\": 83, \"score_abs\": 0.00026405647351602205, \"label\": \"word \\u201c\"}, {\"score\": 0.000264951897903448, \"phrase\": \"same way\", \"count\": 151, \"score_abs\": 0.000264951897903448, \"label\": \"same way\"}, {\"score\": 0.0002900435052979708, \"phrase\": \"whole lot\", \"count\": 56, \"score_abs\": 0.0002900435052979708, \"label\": \"whole lot\"}, {\"score\": 0.00029239376088837716, \"phrase\": \"kinds of things\", \"count\": 59, \"score_abs\": 0.00029239376088837716, \"label\": \"kinds of things\"}, {\"score\": 0.00029622137334740165, \"phrase\": \"final judgment\", \"count\": 104, \"score_abs\": 0.00029622137334740165, \"label\": \"final judgment\"}, {\"score\": 0.0002979896964566159, \"phrase\": \"law enforcement\", \"count\": 133, \"score_abs\": 0.0002979896964566159, \"label\": \"law enforcement\"}, {\"score\": 0.00031090483937103175, \"phrase\": \"title vii\", \"count\": 96, \"score_abs\": 0.00031090483937103175, \"label\": \"title vii\"}, {\"score\": 0.0003120912299990539, \"phrase\": \"only thing\", \"count\": 151, \"score_abs\": 0.0003120912299990539, \"label\": \"only thing\"}, {\"score\": 0.00033353449655330696, \"phrase\": \"police officer\", \"count\": 165, \"score_abs\": 0.00033353449655330696, \"label\": \"police officer\"}, {\"score\": 0.00034423360416479566, \"phrase\": \"bottom line\", \"count\": 65, \"score_abs\": 0.00034423360416479566, \"label\": \"bottom line\"}, {\"score\": 0.00034557674074593475, \"phrase\": \"same question\", \"count\": 167, \"score_abs\": 0.00034557674074593475, \"label\": \"same question\"}, {\"score\": 0.0003508591844079395, \"phrase\": \"two things\", \"count\": 147, \"score_abs\": 0.0003508591844079395, \"label\": \"two things\"}, {\"score\": 0.0003697954494186693, \"phrase\": \"legislative history\", \"count\": 111, \"score_abs\": 0.0003697954494186693, \"label\": \"legislative history\"}, {\"score\": 0.0004369232168655478, \"phrase\": \"federal circuit\", \"count\": 190, \"score_abs\": 0.0004369232168655478, \"label\": \"federal circuit\"}, {\"score\": 0.0005778935009586523, \"phrase\": \"et cetera\", \"count\": 156, \"score_abs\": 0.0005778935009586523, \"label\": \"et cetera\"}, {\"score\": -0.000573147938446564, \"phrase\": \"v. united\", \"count\": 64, \"score_abs\": 0.000573147938446564, \"label\": \"v. united\"}, {\"score\": -0.000573147938446564, \"phrase\": \"v. united states\", \"count\": 64, \"score_abs\": 0.000573147938446564, \"label\": \"v. united states\"}, {\"score\": -0.0005355438490000627, \"phrase\": \"whole point\", \"count\": 112, \"score_abs\": 0.0005355438490000627, \"label\": \"whole point\"}, {\"score\": -0.0004398103536058707, \"phrase\": \"friend on the other side\", \"count\": 47, \"score_abs\": 0.0004398103536058707, \"label\": \"friend on the other side\"}, {\"score\": -0.0003772488770523257, \"phrase\": \"end of the day\", \"count\": 60, \"score_abs\": 0.0003772488770523257, \"label\": \"end of the day\"}, {\"score\": -0.0003331984789814353, \"phrase\": \"case no\", \"count\": 36, \"score_abs\": 0.0003331984789814353, \"label\": \"case no\"}, {\"score\": -0.0002920802689821433, \"phrase\": \"mens rea\", \"count\": 35, \"score_abs\": 0.0002920802689821433, \"label\": \"mens rea\"}, {\"score\": -0.0002920577433165055, \"phrase\": \"article iii\", \"count\": 142, \"score_abs\": 0.0002920577433165055, \"label\": \"article iii\"}, {\"score\": -0.0002788516341614935, \"phrase\": \"particular case\", \"count\": 92, \"score_abs\": 0.0002788516341614935, \"label\": \"particular case\"}, {\"score\": -0.00026799578059688784, \"phrase\": \"proportional representation\", \"count\": 39, \"score_abs\": 0.00026799578059688784, \"label\": \"proportional representation\"}, {\"score\": -0.00026226562474117, \"phrase\": \"separation of powers\", \"count\": 53, \"score_abs\": 0.00026226562474117, \"label\": \"separation of powers\"}, {\"score\": -0.0002593334366695716, \"phrase\": \"rebuttal time\", \"count\": 30, \"score_abs\": 0.0002593334366695716, \"label\": \"rebuttal time\"}, {\"score\": -0.00025698318107916524, \"phrase\": \"injury in fact\", \"count\": 33, \"score_abs\": 0.00025698318107916524, \"label\": \"injury in fact\"}, {\"score\": -0.0002450751571740166, \"phrase\": \"general verrilli\", \"count\": 95, \"score_abs\": 0.0002450751571740166, \"label\": \"general verrilli\"}, {\"score\": -0.0002431726137773233, \"phrase\": \"practical matter\", \"count\": 64, \"score_abs\": 0.0002431726137773233, \"label\": \"practical matter\"}, {\"score\": -0.00024066561223380005, \"phrase\": \"judicial review\", \"count\": 114, \"score_abs\": 0.00024066561223380005, \"label\": \"judicial review\"}, {\"score\": -0.00023406255765629402, \"phrase\": \"trial judge\", \"count\": 89, \"score_abs\": 0.00023406255765629402, \"label\": \"trial judge\"}, {\"score\": -0.0002326077264533137, \"phrase\": \"morning in case no\", \"count\": 24, \"score_abs\": 0.0002326077264533137, \"label\": \"morning in case no\"}, {\"score\": -0.00023157808177840853, \"phrase\": \"general francisco\", \"count\": 32, \"score_abs\": 0.00023157808177840853, \"label\": \"general francisco\"}, {\"score\": -0.00022291573785109228, \"phrase\": \"today in case\", \"count\": 23, \"score_abs\": 0.00022291573785109228, \"label\": \"today in case\"}]}}, {\"mode\": \"vega-lite\"});\n",
              "</script>"
            ]
          },
          "metadata": {},
          "execution_count": 24
        }
      ]
    },
    {
      "cell_type": "markdown",
      "source": [
        "#### Unigram bag of words\n",
        "\n",
        "Let's start with a single (short) document and break it into a unigram bag of words. It's easy to find packages for this online, but we will just use vanilla Python for this. A few notes:\n",
        "\n",
        "- We will define words using a whitespace delimiter below, but note there are also other better ways to do [tokenization](https://web.stanford.edu/~jurafsky/slp3/ed3book.pdf).\n",
        "- Note that a [bag](https://en.wikipedia.org/wiki/Multiset) is a set that allows duplicates; notice that the word `a` appears two times in the `unigram_bag_of_words`.\n",
        "- Note that each item in our bag is a unigram (single word)"
      ],
      "metadata": {
        "id": "bjwKfeJqpHSw"
      }
    },
    {
      "cell_type": "code",
      "source": [
        "from collections import defaultdict\n",
        "document =  \"Solyndra received a loan guarantee. The Department of Energy offered the guarantee.\".replace(\".\",\"\")\n",
        "unigram_bag_of_words = defaultdict(int)\n",
        "for word in document.split():\n",
        "    unigram_bag_of_words[word] += 1\n",
        "\n",
        "unigram_bag_of_words"
      ],
      "metadata": {
        "colab": {
          "base_uri": "https://localhost:8080/"
        },
        "id": "OkXB1_A6pCjE",
        "outputId": "55487f27-6594-4254-c474-756ff991e33b"
      },
      "execution_count": null,
      "outputs": [
        {
          "output_type": "execute_result",
          "data": {
            "text/plain": [
              "defaultdict(int,\n",
              "            {'Department': 1,\n",
              "             'Energy': 1,\n",
              "             'Solyndra': 1,\n",
              "             'The': 1,\n",
              "             'a': 1,\n",
              "             'guarantee': 2,\n",
              "             'loan': 1,\n",
              "             'of': 1,\n",
              "             'offered': 1,\n",
              "             'received': 1,\n",
              "             'the': 1})"
            ]
          },
          "metadata": {},
          "execution_count": 13
        }
      ]
    },
    {
      "cell_type": "markdown",
      "source": [
        "### Discussion: what are some phrases that get missed?"
      ],
      "metadata": {
        "id": "21N8xzxhsTI0"
      }
    },
    {
      "cell_type": "markdown",
      "source": [
        "### Adding phrases to the bag of words"
      ],
      "metadata": {
        "id": "XcQWcPG7sjLc"
      }
    },
    {
      "cell_type": "code",
      "source": [
        "import phrasemachine\n",
        "from tqdm.notebook import tqdm\n",
        "text = \"Solyndra received a loan guarantee. The Department of Energy offered the guarantee.\".replace(\".\",\"\")\n",
        "out = phrasemachine.get_phrases(text)\n",
        "out"
      ],
      "metadata": {
        "colab": {
          "base_uri": "https://localhost:8080/"
        },
        "id": "gw3KSip_To3y",
        "outputId": "cf76c8cb-a8e2-4634-aa11-deac8d39d24a"
      },
      "execution_count": null,
      "outputs": [
        {
          "output_type": "execute_result",
          "data": {
            "text/plain": [
              "{'counts': Counter({'department of energy': 1, 'loan guarantee': 1}),\n",
              " 'num_tokens': 12}"
            ]
          },
          "metadata": {},
          "execution_count": 14
        }
      ]
    },
    {
      "cell_type": "code",
      "source": [
        "# here we are adding the phrases to the unigram bag of words\n",
        "\n",
        "enriched_bag_of_words = unigram_bag_of_words\n",
        "for phrase in out[\"counts\"]:\n",
        "    enriched_bag_of_words[phrase] = out['counts'][phrase]\n",
        "\n",
        "enriched_bag_of_words"
      ],
      "metadata": {
        "colab": {
          "base_uri": "https://localhost:8080/"
        },
        "id": "kYbHS26Wvn9S",
        "outputId": "d7476799-634f-49e5-e53d-0d3127080f2f"
      },
      "execution_count": null,
      "outputs": [
        {
          "output_type": "execute_result",
          "data": {
            "text/plain": [
              "defaultdict(int,\n",
              "            {'Department': 1,\n",
              "             'Energy': 1,\n",
              "             'Solyndra': 1,\n",
              "             'The': 1,\n",
              "             'a': 1,\n",
              "             'department of energy': 1,\n",
              "             'guarantee': 2,\n",
              "             'loan': 1,\n",
              "             'loan guarantee': 1,\n",
              "             'of': 1,\n",
              "             'offered': 1,\n",
              "             'received': 1,\n",
              "             'the': 1})"
            ]
          },
          "metadata": {},
          "execution_count": 15
        }
      ]
    },
    {
      "cell_type": "markdown",
      "source": [
        "## Using phrases for downstream analysis\n",
        "\n",
        "Now that we know how to extract phrases using phrasemachine, we will now see how to use such phrases for downstream analysis. Specifically, we will analyze the ideological orientation of words and phrases in U.S. Supreme Court Oral Arguments.\n",
        "\n",
        "At a high level, we will ask: what kinds of things to liberal and conservative justices tend to bring up during oral arguments? What would you expect to liberals and convservatives to talk about?"
      ],
      "metadata": {
        "id": "6ccOnhLchBiN"
      }
    },
    {
      "cell_type": "markdown",
      "source": [
        "##### Corpus\n",
        "We will use the [`convokit`](https://convokit.cornell.edu/documentation/supreme.html) corpus of supreme court oral arguments. In this notebook, we will only examine comments from liberal and conservative justices from the years 2010-2019."
      ],
      "metadata": {
        "id": "v0qmiSKb0vpP"
      }
    },
    {
      "cell_type": "markdown",
      "source": [
        "In this analysis, we will investigate which phrases are used by liberal (L) and conservative (C) justices. So we need a mapping of justices to ideologies, which we construct manually below."
      ],
      "metadata": {
        "id": "p8fnkx_Yh8cK"
      }
    },
    {
      "cell_type": "code",
      "source": [
        "judge2ideology = {'j__john_g_roberts_jr': \"C\", \n",
        "                  'j__samuel_a_alito_jr': \"C\",\n",
        "                  'j__ruth_bader_ginsburg': \"L\",\n",
        "                  'j__sonia_sotomayor': \"L\",\n",
        "                  'j__antonin_scalia': \"L\",\n",
        "                  'j__stephen_g_breyer': \"L\",\n",
        "                  'j__anthony_m_kennedy': \"C\",\n",
        "                  'j__elena_kagan': \"L\",\n",
        "                  'j__clarence_thomas': \"C\",\n",
        "                  'j__neil_gorsuch': \"C\",\n",
        "                  'j__brett_m_kavanaugh': \"C\"\n",
        "                  }"
      ],
      "metadata": {
        "id": "gxREkwzx4t7M"
      },
      "execution_count": null,
      "outputs": []
    },
    {
      "cell_type": "markdown",
      "source": [
        "We also build a set of all justices in the dataset."
      ],
      "metadata": {
        "id": "L49_rVmXit9T"
      }
    },
    {
      "cell_type": "code",
      "source": [
        "import json\n",
        "\n",
        "def get_justices(input_file=\"cases.jsonl\"):\n",
        "    '''Get names of all justices in the dataset'''\n",
        "    all_justices = set()\n",
        "    with open(input_file, \"r\") as inf:\n",
        "        for j in inf:\n",
        "            j = json.loads(j)\n",
        "            if j[\"votes\"] is not None:\n",
        "                for justice in j[\"votes\"].keys():\n",
        "                    all_justices.add(justice)\n",
        "    return all_justices\n",
        "\n",
        "all_justices = get_justices()"
      ],
      "metadata": {
        "id": "U-gYS_NRis0I"
      },
      "execution_count": null,
      "outputs": []
    },
    {
      "cell_type": "markdown",
      "source": [
        "The next step is to extract words and phrases for the justices. In computing this information, we do two things to make the computational requirements more managable: \n",
        "1. We limit our analysis to court cases from 2010-2019, which is why you see `u.meta[\"case_id\"][0:3] == \"201\"` below. \n",
        "2. We also only extract phrases from the first 500 characters of the utterance."
      ],
      "metadata": {
        "id": "5bJ_Hjali8lD"
      }
    },
    {
      "cell_type": "code",
      "source": [
        "utterances = [] # build a list of the utterances we are interested in\n",
        "for u in tqdm(corpus.get_utterance_ids()):\n",
        "    u = corpus.get_utterance(u)\n",
        "    if u.speaker.id in all_justices and u.meta[\"case_id\"][0:3] == \"201\":\n",
        "        utterances.append(u)"
      ],
      "metadata": {
        "colab": {
          "base_uri": "https://localhost:8080/",
          "height": 49,
          "referenced_widgets": [
            "d0dc29c9d882401bbdae89f090bf6a91",
            "a42236a4b0f94c8ca3da4e1496751684",
            "fffe772eb6dc42fb8d243a33a4a1318d",
            "eb87dbeadd4f4b2fbaf0bfead94a6501",
            "856f187e41784a4e9f2a79c99c086792",
            "17bdf2e46dd544dea732c9e35fa7ac83",
            "e540dd47ddda4d35997edfa4ec8afd8f",
            "515ce4f646204ea4b1c3b58f4baa7b0d",
            "9647ece437de4e0481bef6b371206d0d",
            "5c111fa12baf44a2af0254b751af6470",
            "a1855c6b8fed49a2995cd1fe83e10a8f"
          ]
        },
        "id": "IGPoa4e0mEbs",
        "outputId": "d44927d0-e680-4e76-f9bc-bd2fc477a74c"
      },
      "execution_count": null,
      "outputs": [
        {
          "output_type": "display_data",
          "data": {
            "application/vnd.jupyter.widget-view+json": {
              "model_id": "d0dc29c9d882401bbdae89f090bf6a91",
              "version_minor": 0,
              "version_major": 2
            },
            "text/plain": [
              "  0%|          | 0/1700789 [00:00<?, ?it/s]"
            ]
          },
          "metadata": {}
        }
      ]
    },
    {
      "cell_type": "markdown",
      "source": [
        "### Extracting phrases\n",
        "\n",
        "The code below extracts and counts phrases from liberal and conservative justices"
      ],
      "metadata": {
        "id": "x5OWNu952PZL"
      }
    },
    {
      "cell_type": "code",
      "source": [
        "from collections import defaultdict # https://docs.python.org/3/library/collections.html#collections.defaultdict\n",
        "from tqdm.notebook import tqdm\n",
        "\n",
        "justice2phrases = defaultdict(lambda: defaultdict(int))\n",
        "\n",
        "for u in tqdm(utterances):\n",
        "    phrases = phrasemachine.get_phrases(u.text[0:500])[\"counts\"] # roughly 97.5% are less than 500 chars, and runs way faster\n",
        "    for p in phrases:\n",
        "        # we can filter out some filler/stop phrases here, e.g. when the record notes laughter\n",
        "        if \"justice\" not in p and \"mr.\" not in p and \"minutes\" not in p and \"laugher\" not in p:\n",
        "            justice2phrases[judge2ideology[u.speaker.id]][p] += phrases[p]\n",
        "\n",
        "phrasecounts = justice2phrases # this builds a dictionary of count of phrases by liberal/conservative judges"
      ],
      "metadata": {
        "colab": {
          "base_uri": "https://localhost:8080/",
          "height": 49,
          "referenced_widgets": [
            "456b42e29d704b44b534eedb2c614c04",
            "511440311fff4c11a62dd37fddf57f8c",
            "8925398ad1cb4a28bc23f1a94ce52637",
            "bf9b05466aef4623b197b1b70c38b48f",
            "e5e950d8dad24af7ae3294daf453a7b1",
            "83ec2808afd24e7da3384fe0b060df35",
            "11adf03854d34482b6406acc5d41e641",
            "46576abf7c84479889603d543aa3256f",
            "754d742eac6442dd9d4553ccd59903a0",
            "8e4730b7473146ac83911f89fa2afffc",
            "9649b095d5194ae1922c7b9a21af45f6"
          ]
        },
        "id": "2ZFIyJ5TOjMN",
        "outputId": "22c93c31-41b3-4677-dbaa-f7a1ae879aca"
      },
      "execution_count": null,
      "outputs": [
        {
          "output_type": "display_data",
          "data": {
            "application/vnd.jupyter.widget-view+json": {
              "model_id": "456b42e29d704b44b534eedb2c614c04",
              "version_minor": 0,
              "version_major": 2
            },
            "text/plain": [
              "  0%|          | 0/78598 [00:00<?, ?it/s]"
            ]
          },
          "metadata": {}
        }
      ]
    },
    {
      "cell_type": "markdown",
      "source": [
        "### Extracting words\n",
        "\n",
        "The code below extracts and counts unigrams from liberal and conservative justices"
      ],
      "metadata": {
        "id": "-PVVQVjr2X5r"
      }
    },
    {
      "cell_type": "code",
      "source": [
        "justice2words = defaultdict(lambda: defaultdict(int))\n",
        "\n",
        "for u in tqdm(utterances):\n",
        "    words = u.text[0:500].split() # this is a very simple tokenization strategy, see https://web.stanford.edu/~jurafsky/slp3/2.pdf for alternatives\n",
        "    for word in words:\n",
        "        # we can filter out some filler/stop phrases here, e.g. when the record notes laughter\n",
        "        if \"justice\" not in word and \"mr.\" not in word and \"minutes\" not in word and \"laugher\" not in word:\n",
        "            justice2words[judge2ideology[u.speaker.id]][word] += 1\n",
        "\n",
        "wordcounts = justice2words # this builds a dictionary of count of phrases by liberal/conservative judges"
      ],
      "metadata": {
        "colab": {
          "base_uri": "https://localhost:8080/",
          "height": 49,
          "referenced_widgets": [
            "749de720cfc64e8cb81626770249875e",
            "d332dd1275b94e4aadf30575e98d0a47",
            "eeb3d9e7264d4c0eaf9c51998e965050",
            "74ff532502a243c0823d8fdd3a642e68",
            "b88495bde68644cdb02c780c48f4b4b9",
            "ef6e7f216e0446ac90334c7c6bf80786",
            "50d595cd7e1b40ffa7cf58909b731e65",
            "c3bbdab6539647ea831bd33f70090605",
            "216b647ad25242d8bf13e8643b51b4b9",
            "58ced7930aaf47e5932ea16d4f11e7cb",
            "c7759526e1ea4cafb3ee2c503f87511e"
          ]
        },
        "id": "I0FrnAkOv3GC",
        "outputId": "f046516f-6eba-4447-83e0-3b6004e20ede"
      },
      "execution_count": null,
      "outputs": [
        {
          "output_type": "display_data",
          "data": {
            "application/vnd.jupyter.widget-view+json": {
              "model_id": "749de720cfc64e8cb81626770249875e",
              "version_minor": 0,
              "version_major": 2
            },
            "text/plain": [
              "  0%|          | 0/78598 [00:00<?, ?it/s]"
            ]
          },
          "metadata": {}
        }
      ]
    },
    {
      "cell_type": "markdown",
      "source": [
        "## Analyzing word use\n",
        "\n",
        "Now that we have counted words and phrases from liberal and convservative justices, we will analyze differences in the political orientation of words and phrases. Specifically we will:\n",
        "- Compute statistics about how frequently liberal and conservative justices use particular words and \n",
        "- Display this information on a plot for analysis \n",
        "- The partisanship score we will use in this notebook is $p(w|liberal) - p(w|conservative)$ which is assigned in `compute_phrase_scores`\n",
        "\n",
        "Our approach is based on the [Fightin' Words](http://languagelog.ldc.upenn.edu/myl/Monroe.pdf) method from Monroe et al. Specifically, we will use the word importance score from Section 3.2.2 of Fightin' Words. If you are curious, the paper describes other word importance scores."
      ],
      "metadata": {
        "id": "u8V4jCA41_xx"
      }
    },
    {
      "cell_type": "code",
      "source": [
        "import pandas as pd\n",
        "\n",
        "def compute_normalize_counts(_countdict, n):\n",
        "    '''\n",
        "    normalize the count of words/phrases by total words (in the L or C wing)\n",
        "    '''\n",
        "    normalized_counts = defaultdict(lambda: defaultdict(int))\n",
        "\n",
        "    for wing in _countdict.keys():\n",
        "        for p in _countdict[wing]:\n",
        "            normalized_counts[wing][p] = _countdict[wing][p]/n[wing]\n",
        "\n",
        "    return normalized_counts\n",
        "\n",
        "def compute_phrase_scores(normalized, _countdict):\n",
        "    '''\n",
        "    compute the count and partisanship scores of phrases\n",
        "    '''\n",
        "    df = []\n",
        "    for wing in _countdict.keys():\n",
        "        for phrase in _countdict[wing]:\n",
        "            df.append({\"score\": normalized[\"L\"][phrase] - normalized[\"C\"][phrase], \n",
        "                    \"phrase\": phrase,\n",
        "                    \"count\": _countdict[\"C\"][phrase] + _countdict[\"L\"][phrase]}) # http://languagelog.ldc.upenn.edu/myl/Monroe.pdf, 3.2.2\n",
        "    return pd.DataFrame(df).drop_duplicates()\n",
        "\n",
        "def getK(_df, k=20):\n",
        "    '''\n",
        "    Return the top k or bottom k items in a dataframe. This is just a convenience function\n",
        "    '''\n",
        "    if k > 0:\n",
        "        return _df.sort_values(\"score\")[0:k].copy()\n",
        "    else:\n",
        "        return _df.sort_values(\"score\")[k:].copy()\n",
        "\n",
        "def get_top_K_df(counts):\n",
        "    '''Make a pandas dataframe of the top K partisan phrases for plotting'''\n",
        "    countdict = counts\n",
        "\n",
        "    n = {}  \n",
        "    n[\"C\"] = sum(countdict[\"C\"].values())\n",
        "    n[\"L\"] = sum(countdict[\"L\"].values())\n",
        "\n",
        "    normalized_counts = compute_normalize_counts(countdict, n)\n",
        "\n",
        "    df = compute_phrase_scores(normalized_counts, countdict)\n",
        "\n",
        "    df = df[df[\"count\"] < 200] # exclude high-count lexical items, roughly stop words\n",
        "\n",
        "    # add an abolute value of the score\n",
        "    df[\"score_abs\"] = df[\"score\"].apply(lambda x: abs(x))\n",
        "\n",
        "    return pd.concat([getK(df, k=-20), getK(df, k=20)])\n",
        "\n",
        "\n",
        "tops_phrases = get_top_K_df(phrasecounts)\n",
        "tops_words = get_top_K_df(wordcounts)\n",
        "tops_words[\"label\"] = tops_words[\"phrase\"].apply(lambda x: x.replace(\".\", \"\"))\n",
        "tops_phrases[\"label\"] = tops_phrases[\"phrase\"]"
      ],
      "metadata": {
        "id": "j5xg7QcUuKno"
      },
      "execution_count": null,
      "outputs": []
    },
    {
      "cell_type": "code",
      "source": [
        "import altair as alt\n",
        "import pandas as pd\n",
        "\n",
        "\n",
        "def make_plot(source):\n",
        "\n",
        "    height = 1000\n",
        "\n",
        "    points = alt.Chart(source).mark_circle().encode(\n",
        "        x='count:Q',\n",
        "        y='score:Q',\n",
        "        size='score_abs',\n",
        "        color=alt.Color('score:Q', scale=alt.Scale(scheme='redyellowblue'))\n",
        "    ).properties(\n",
        "        width=1200,\n",
        "        height=height\n",
        "    )\n",
        "\n",
        "    text = alt.Chart(source).mark_text(\n",
        "        align='left',\n",
        "        baseline='middle',\n",
        "        dx=7\n",
        "    ).encode(\n",
        "        x='count:Q',\n",
        "        y='score:Q',\n",
        "        text='label'\n",
        "    ).properties(\n",
        "        width=1200,\n",
        "        height=height\n",
        "    )\n",
        "\n",
        "    return points + text\n"
      ],
      "metadata": {
        "id": "tgfVnKVaMxKy"
      },
      "execution_count": null,
      "outputs": []
    },
    {
      "cell_type": "code",
      "source": [
        "make_plot(tops_words) # this is the same line of code that runs at the top of the notebook. If you are running the cells from top-to-bottom this should run"
      ],
      "metadata": {
        "colab": {
          "base_uri": "https://localhost:8080/",
          "height": 1068
        },
        "id": "G6jqvWwQ7ZEk",
        "outputId": "c58de35c-6a38-4819-c736-00f51790bb97"
      },
      "execution_count": null,
      "outputs": [
        {
          "output_type": "execute_result",
          "data": {
            "text/plain": [
              "alt.LayerChart(...)"
            ],
            "text/html": [
              "\n",
              "<div id=\"altair-viz-e9185953bde64044833d4d0d0f0a1e69\"></div>\n",
              "<script type=\"text/javascript\">\n",
              "  var VEGA_DEBUG = (typeof VEGA_DEBUG == \"undefined\") ? {} : VEGA_DEBUG;\n",
              "  (function(spec, embedOpt){\n",
              "    let outputDiv = document.currentScript.previousElementSibling;\n",
              "    if (outputDiv.id !== \"altair-viz-e9185953bde64044833d4d0d0f0a1e69\") {\n",
              "      outputDiv = document.getElementById(\"altair-viz-e9185953bde64044833d4d0d0f0a1e69\");\n",
              "    }\n",
              "    const paths = {\n",
              "      \"vega\": \"https://cdn.jsdelivr.net/npm//vega@5?noext\",\n",
              "      \"vega-lib\": \"https://cdn.jsdelivr.net/npm//vega-lib?noext\",\n",
              "      \"vega-lite\": \"https://cdn.jsdelivr.net/npm//vega-lite@4.17.0?noext\",\n",
              "      \"vega-embed\": \"https://cdn.jsdelivr.net/npm//vega-embed@6?noext\",\n",
              "    };\n",
              "\n",
              "    function maybeLoadScript(lib, version) {\n",
              "      var key = `${lib.replace(\"-\", \"\")}_version`;\n",
              "      return (VEGA_DEBUG[key] == version) ?\n",
              "        Promise.resolve(paths[lib]) :\n",
              "        new Promise(function(resolve, reject) {\n",
              "          var s = document.createElement('script');\n",
              "          document.getElementsByTagName(\"head\")[0].appendChild(s);\n",
              "          s.async = true;\n",
              "          s.onload = () => {\n",
              "            VEGA_DEBUG[key] = version;\n",
              "            return resolve(paths[lib]);\n",
              "          };\n",
              "          s.onerror = () => reject(`Error loading script: ${paths[lib]}`);\n",
              "          s.src = paths[lib];\n",
              "        });\n",
              "    }\n",
              "\n",
              "    function showError(err) {\n",
              "      outputDiv.innerHTML = `<div class=\"error\" style=\"color:red;\">${err}</div>`;\n",
              "      throw err;\n",
              "    }\n",
              "\n",
              "    function displayChart(vegaEmbed) {\n",
              "      vegaEmbed(outputDiv, spec, embedOpt)\n",
              "        .catch(err => showError(`Javascript Error: ${err.message}<br>This usually means there's a typo in your chart specification. See the javascript console for the full traceback.`));\n",
              "    }\n",
              "\n",
              "    if(typeof define === \"function\" && define.amd) {\n",
              "      requirejs.config({paths});\n",
              "      require([\"vega-embed\"], displayChart, err => showError(`Error loading script: ${err.message}`));\n",
              "    } else {\n",
              "      maybeLoadScript(\"vega\", \"5\")\n",
              "        .then(() => maybeLoadScript(\"vega-lite\", \"4.17.0\"))\n",
              "        .then(() => maybeLoadScript(\"vega-embed\", \"6\"))\n",
              "        .catch(showError)\n",
              "        .then(() => displayChart(vegaEmbed));\n",
              "    }\n",
              "  })({\"config\": {\"view\": {\"continuousWidth\": 400, \"continuousHeight\": 300}}, \"layer\": [{\"mark\": \"circle\", \"encoding\": {\"color\": {\"field\": \"score\", \"scale\": {\"scheme\": \"redyellowblue\"}, \"type\": \"quantitative\"}, \"size\": {\"field\": \"score_abs\", \"type\": \"quantitative\"}, \"x\": {\"field\": \"count\", \"type\": \"quantitative\"}, \"y\": {\"field\": \"score\", \"type\": \"quantitative\"}}, \"height\": 1000, \"width\": 1200}, {\"mark\": {\"type\": \"text\", \"align\": \"left\", \"baseline\": \"middle\", \"dx\": 7}, \"encoding\": {\"text\": {\"field\": \"label\", \"type\": \"nominal\"}, \"x\": {\"field\": \"count\", \"type\": \"quantitative\"}, \"y\": {\"field\": \"score\", \"type\": \"quantitative\"}}, \"height\": 1000, \"width\": 1200}], \"data\": {\"name\": \"data-23aaa92cf80126ff3be8d540b0e5755e\"}, \"$schema\": \"https://vega.github.io/schema/vega-lite/v4.17.0.json\", \"datasets\": {\"data-23aaa92cf80126ff3be8d540b0e5755e\": [{\"score\": 4.579404670468758e-05, \"phrase\": \"did,\", \"count\": 166, \"score_abs\": 4.579404670468758e-05, \"label\": \"did,\"}, {\"score\": 4.5845220322419426e-05, \"phrase\": \"women\", \"count\": 189, \"score_abs\": 4.5845220322419426e-05, \"label\": \"women\"}, {\"score\": 4.6175409810090374e-05, \"phrase\": \"did.\", \"count\": 158, \"score_abs\": 4.6175409810090374e-05, \"label\": \"did\"}, {\"score\": 4.643493184397115e-05, \"phrase\": \"says.\", \"count\": 167, \"score_abs\": 4.643493184397115e-05, \"label\": \"says\"}, {\"score\": 4.648975940692455e-05, \"phrase\": \"--Mr.\", \"count\": 84, \"score_abs\": 4.648975940692455e-05, \"label\": \"--Mr\"}, {\"score\": 4.655677291549316e-05, \"phrase\": \"saying.\", \"count\": 150, \"score_abs\": 4.655677291549316e-05, \"label\": \"saying\"}, {\"score\": 4.6643280260120084e-05, \"phrase\": \"acting\", \"count\": 153, \"score_abs\": 4.6643280260120084e-05, \"label\": \"acting\"}, {\"score\": 4.785438308489706e-05, \"phrase\": \"because,\", \"count\": 195, \"score_abs\": 4.785438308489706e-05, \"label\": \"because,\"}, {\"score\": 4.8581775568807555e-05, \"phrase\": \"uses\", \"count\": 199, \"score_abs\": 4.8581775568807555e-05, \"label\": \"uses\"}, {\"score\": 4.8998472401105424e-05, \"phrase\": \"anyone\", \"count\": 171, \"score_abs\": 4.8998472401105424e-05, \"label\": \"anyone\"}, {\"score\": 5.002072064579178e-05, \"phrase\": \"like,\", \"count\": 164, \"score_abs\": 5.002072064579178e-05, \"label\": \"like,\"}, {\"score\": 5.083462047432919e-05, \"phrase\": \"Excuse\", \"count\": 171, \"score_abs\": 5.083462047432919e-05, \"label\": \"Excuse\"}, {\"score\": 5.1459665722775994e-05, \"phrase\": \"many,\", \"count\": 129, \"score_abs\": 5.1459665722775994e-05, \"label\": \"many,\"}, {\"score\": 5.2014043517432646e-05, \"phrase\": \"see.\", \"count\": 127, \"score_abs\": 5.2014043517432646e-05, \"label\": \"see\"}, {\"score\": 5.398787255301519e-05, \"phrase\": \"woman\", \"count\": 153, \"score_abs\": 5.398787255301519e-05, \"label\": \"woman\"}, {\"score\": 5.5875194243970805e-05, \"phrase\": \"She\", \"count\": 176, \"score_abs\": 5.5875194243970805e-05, \"label\": \"She\"}, {\"score\": 5.6449065874685767e-05, \"phrase\": \"indeed\", \"count\": 111, \"score_abs\": 5.6449065874685767e-05, \"label\": \"indeed\"}, {\"score\": 5.6795095253193477e-05, \"phrase\": \"adversary\", \"count\": 123, \"score_abs\": 5.6795095253193477e-05, \"label\": \"adversary\"}, {\"score\": 6.181617518677677e-05, \"phrase\": \"May\", \"count\": 191, \"score_abs\": 6.181617518677677e-05, \"label\": \"May\"}, {\"score\": 7.065088617438794e-05, \"phrase\": \"piece\", \"count\": 179, \"score_abs\": 7.065088617438794e-05, \"label\": \"piece\"}, {\"score\": -0.00017920293274640428, \"phrase\": \"Counsel.\", \"count\": 153, \"score_abs\": 0.00017920293274640428, \"label\": \"Counsel\"}, {\"score\": -0.00012867535397846616, \"phrase\": \"friend\", \"count\": 186, \"score_abs\": 0.00012867535397846616, \"label\": \"friend\"}, {\"score\": -0.00011874772729237847, \"phrase\": \"Sure.\", \"count\": 127, \"score_abs\": 0.00011874772729237847, \"label\": \"Sure\"}, {\"score\": -0.00011060872900700427, \"phrase\": \"type\", \"count\": 197, \"score_abs\": 0.00011060872900700427, \"label\": \"type\"}, {\"score\": -0.00010670859060834948, \"phrase\": \"General.\", \"count\": 120, \"score_abs\": 0.00010670859060834948, \"label\": \"General\"}, {\"score\": -0.00010438873219425923, \"phrase\": \"Kagan's\", \"count\": 158, \"score_abs\": 0.00010438873219425923, \"label\": \"Kagan's\"}, {\"score\": -8.311768152637949e-05, \"phrase\": \"sorry\", \"count\": 174, \"score_abs\": 8.311768152637949e-05, \"label\": \"sorry\"}, {\"score\": -8.145454814240958e-05, \"phrase\": \"reference\", \"count\": 168, \"score_abs\": 8.145454814240958e-05, \"label\": \"reference\"}, {\"score\": -8.05894746961403e-05, \"phrase\": \"Breyer's\", \"count\": 198, \"score_abs\": 8.05894746961403e-05, \"label\": \"Breyer's\"}, {\"score\": -7.68111773690075e-05, \"phrase\": \"degree\", \"count\": 138, \"score_abs\": 7.68111773690075e-05, \"label\": \"degree\"}, {\"score\": -7.65321614990684e-05, \"phrase\": \"Clement.\", \"count\": 84, \"score_abs\": 7.65321614990684e-05, \"label\": \"Clement\"}, {\"score\": -7.58595965781113e-05, \"phrase\": \"hypothetical,\", \"count\": 171, \"score_abs\": 7.58595965781113e-05, \"label\": \"hypothetical,\"}, {\"score\": -7.433414415650017e-05, \"phrase\": \"4\", \"count\": 139, \"score_abs\": 7.433414415650017e-05, \"label\": \"4\"}, {\"score\": -6.998562914387396e-05, \"phrase\": \"concerns\", \"count\": 120, \"score_abs\": 6.998562914387396e-05, \"label\": \"concerns\"}, {\"score\": -6.930941027769532e-05, \"phrase\": \"interrupt\", \"count\": 101, \"score_abs\": 6.930941027769532e-05, \"label\": \"interrupt\"}, {\"score\": -6.855033801211129e-05, \"phrase\": \"analysis\", \"count\": 191, \"score_abs\": 6.855033801211129e-05, \"label\": \"analysis\"}, {\"score\": -6.253503567029362e-05, \"phrase\": \"Kneedler.\", \"count\": 60, \"score_abs\": 6.253503567029362e-05, \"label\": \"Kneedler\"}, {\"score\": -6.166996222402434e-05, \"phrase\": \"mens\", \"count\": 90, \"score_abs\": 6.166996222402434e-05, \"label\": \"mens\"}, {\"score\": -6.161878860629251e-05, \"phrase\": \"sorts\", \"count\": 113, \"score_abs\": 6.161878860629251e-05, \"label\": \"sorts\"}, {\"score\": -6.125326539172648e-05, \"phrase\": \"Justice.\", \"count\": 62, \"score_abs\": 6.125326539172648e-05, \"label\": \"Justice\"}]}}, {\"mode\": \"vega-lite\"});\n",
              "</script>"
            ]
          },
          "metadata": {},
          "execution_count": 23
        }
      ]
    },
    {
      "cell_type": "markdown",
      "source": [
        "### Discussion\n",
        "\n",
        "- Comparing the unigram plot to the plot with phrases, what do you notice? \n",
        "\n",
        "- Which plot gives you a clearer sense what justices tend to talk about. This is sometimes called being more \"[interpretable](https://arxiv.org/abs/1702.08608)\"."
      ],
      "metadata": {
        "id": "wkj3u_lj8i_s"
      }
    },
    {
      "cell_type": "markdown",
      "source": [
        "### Defining phrases in your own way\n",
        "\n",
        "It is also possible to define your own phrases for *your* task. Here is one example of how to do that based on phrasemachine. Note that this example mixes POS tags and words. The method shown below (based on phrasemachine) is somewhat hacky. \n",
        "\n",
        "There is also a more principled way of running a regex over POS tags and characters: (1) replace all words in your corpus with POS tags *except* the words you care about (2) run your regex over the replaced version of your corpus (3) extract phrases from the matches in the original corpus. That method is a little more involved and so is not shown here."
      ],
      "metadata": {
        "id": "6xMHMHds3BeQ"
      }
    },
    {
      "cell_type": "code",
      "source": [
        "import phrasemachine\n",
        "\n",
        "utterances = [] # build a list of the utterances we are interested in\n",
        "c = 0 \n",
        "\n",
        "def theory_phrases(_text):\n",
        "    '''\n",
        "    Equivalent to this regex: (theory)(of)D*(A|N)*N)*\n",
        "    \n",
        "    To run this regex on your text, replace all words except \"theory of\" w. their POS tags\n",
        "    '''\n",
        "    for phrase in phrasemachine.get_phrases(_text)[\"counts\"]:\n",
        "        if phrase[0:len(\"theory of\")] == \"theory of\":\n",
        "            yield phrase\n",
        "\n",
        "for u in tqdm(corpus.get_utterance_ids()):\n",
        "    u = corpus.get_utterance(u)\n",
        "    c += 1\n",
        "    if c == 50000:\n",
        "        break\n",
        "    for phrase in theory_phrases(u.text):\n",
        "        print(phrase)"
      ],
      "metadata": {
        "id": "90Vj3GMJ8tat",
        "colab": {
          "base_uri": "https://localhost:8080/",
          "height": 1000,
          "referenced_widgets": [
            "9400591b2d38461bbbe16d9d7984e820",
            "e7aad9ca63fc42ea94f8adbbc0135206",
            "882d3b0d75104c2bb8b699cdd4591611",
            "b612a5c64636403ab951b6f3dc9ef7f4",
            "fade59c0f67344679cb80fd4dc2cc2c8",
            "c32e7cc8fe4e47aab524224e457d578b",
            "03c4a63a3779433d868cbe1a479f7676",
            "c3d5af8b9e5d484cb1174746b9d73e7d",
            "4b3e4bb876a14bcc83960799ddef9db6",
            "b78ad235fbac41049df687ca59cd13c7",
            "4ad1d3f0e5d44c0680119b2cff512e36"
          ]
        },
        "outputId": "8fea0c2b-d94c-4450-a7d8-9e4a2192e387"
      },
      "execution_count": null,
      "outputs": [
        {
          "output_type": "display_data",
          "data": {
            "application/vnd.jupyter.widget-view+json": {
              "model_id": "9400591b2d38461bbbe16d9d7984e820",
              "version_minor": 0,
              "version_major": 2
            },
            "text/plain": [
              "  0%|          | 0/1700789 [00:00<?, ?it/s]"
            ]
          },
          "metadata": {}
        },
        {
          "output_type": "stream",
          "name": "stdout",
          "text": [
            "theory of the petitioner\n",
            "theory of decisions\n",
            "theory of the cases\n",
            "theory of alter\n",
            "theory of alter ego\n",
            "theory of the matter\n",
            "theory of milliken\n",
            "theory of milliken versus\n",
            "theory of milliken versus meyer\n",
            "theory of the government\n",
            "theory of burton-sutton\n",
            "theory of congressional power\n",
            "theory of the act\n",
            "theory of the act as a disclosure\n",
            "theory of the act as a disclosure statute\n",
            "theory of the total\n",
            "theory of the total for the four years\n",
            "theory of indemnity\n",
            "theory of the assignee\n",
            "theory of the assignee of the cause\n",
            "theory of the case\n",
            "theory of lien\n",
            "theory of lien priority\n",
            "theory of the registrants\n",
            "theory of the registrant\n",
            "theory of the case\n",
            "theory of this act\n",
            "theory of the proceeding\n",
            "theory of the petitioner\n",
            "theory of deportation\n",
            "theory of the decision\n",
            "theory of the decision below\n",
            "theory of the jurisdiction\n",
            "theory of the jurisdiction in the western district\n",
            "theory of the case\n",
            "theory of the case whatsoever\n",
            "theory of federal supremacy\n",
            "theory of a fine\n",
            "theory of a fine in a criminal case\n",
            "theory of indemnity\n",
            "theory of breach\n",
            "theory of breach of a contractual duty\n",
            "theory of negligence\n",
            "theory of averages\n",
            "theory of the assigned car\n",
            "theory of the assigned car cases\n",
            "theory of the court\n",
            "theory of the court of appeals\n",
            "theory of recovery\n",
            "theory of contract\n",
            "theory of contract carriage\n",
            "theory of degree\n",
            "theory of contract\n",
            "theory of contract carrier\n",
            "theory of a secret process\n",
            "theory of monopolization\n",
            "theory of the case\n",
            "theory of a franchise\n",
            "theory of a franchise tax\n",
            "theory of respondeat\n",
            "theory of liability\n",
            "theory of liability\n",
            "theory of respondeat\n",
            "theory of respondeat\n",
            "theory of parens\n",
            "theory of parens patriae\n",
            "theory of justice\n",
            "theory of law\n",
            "theory of law without any applied technique\n",
            "theory of merger\n",
            "theory of this case\n",
            "theory of trial\n",
            "theory of trial relies\n",
            "theory of trial relies upon the ability\n",
            "theory of the federal\n",
            "theory of the federal trade\n",
            "theory of the federal trade commission\n",
            "theory of the federal trade commission act\n",
            "theory of the case\n",
            "theory of the court\n",
            "theory of the court of appeals\n",
            "theory of the extended conspiracy\n",
            "theory of an extended conspiracy\n",
            "theory of conspiracy\n",
            "theory of inconsistency\n",
            "theory of the conspiracy\n",
            "theory of a prosecution\n",
            "theory of this decree\n",
            "theory of the judge\n",
            "theory of the grand jury\n",
            "theory of law\n",
            "theory of any corporate deal\n",
            "theory of the decision\n",
            "theory of the decision of this court\n",
            "theory of law\n",
            "theory of the case\n",
            "theory of subrogation\n",
            "theory of those cases\n",
            "theory of mrs.\n",
            "theory of mrs. o'leary\n",
            "theory of erie\n",
            "theory of erie against tompkins\n",
            "theory of anglo-american trial\n",
            "theory of the original enactment\n",
            "theory of the labor\n",
            "theory of the labor management\n",
            "theory of the labor management relations\n",
            "theory of the labor management relations act\n",
            "theory of the case\n",
            "theory of the case\n",
            "theory of dialectical materials\n",
            "theory of the burlingame\n",
            "theory of the burlingame firm\n",
            "theory of judge\n",
            "theory of judge frank\n",
            "theory of the 1940 act\n",
            "theory of law\n",
            "theory of law for compensation\n",
            "theory of law for compensation pendente\n",
            "theory of law for compensation pendente lite\n",
            "theory of legal relief\n",
            "theory of legal relief to the court\n",
            "theory of the nature\n",
            "theory of the nature of a partnership\n",
            "theory of negligence\n",
            "theory of negligence action\n",
            "theory of the respondent\n",
            "theory of the court\n",
            "theory of the court of appeals\n",
            "theory of law\n",
            "theory of the commission\n",
            "theory of restriction\n",
            "theory of these class\n",
            "theory of these class actions\n",
            "theory of provable damages.”\n",
            "theory of provable damages.” well\n",
            "theory of the immigration\n",
            "theory of the immigration laws\n",
            "theory of everybody\n",
            "theory of defense\n",
            "theory of the defense\n",
            "theory of proof\n",
            "theory of accounting\n",
            "theory of the commission\n",
            "theory of the whole record\n",
            "theory of taxation\n",
            "theory of a piecemeal ruling\n",
            "theory of a piecemeal ruling review\n",
            "theory of a piecemeal ruling review of orders\n",
            "theory of amendments\n",
            "theory of amendments to complaints\n",
            "theory of the case\n",
            "theory of the case after the case\n",
            "theory of federal jurisdiction\n",
            "theory of guilt\n",
            "theory of the hall\n",
            "theory of the hall case\n",
            "theory of the evidence\n",
            "theory of the reversal\n",
            "theory of the case\n",
            "theory of waiver\n",
            "theory of the reversal\n",
            "theory of the reversal\n",
            "theory of waiver\n",
            "theory of justice\n",
            "theory of justice peckham\n",
            "theory of waiver\n",
            "theory of nexus\n",
            "theory of the test\n",
            "theory of the test of offense\n",
            "theory of the department\n",
            "theory of the case\n",
            "theory of guilt\n",
            "theory of the government\n",
            "theory of the government that the jury\n",
            "theory of the law\n",
            "theory of the union\n",
            "theory of the union\n",
            "theory of the union at the trial\n",
            "theory of gonzales\n",
            "theory of the plaintiff\n",
            "theory of the plaintiff in this action\n",
            "theory of the sorrells\n",
            "theory of the sorrells case\n",
            "theory of the respondent\n",
            "theory of a breach\n",
            "theory of a breach of warranty\n",
            "theory of reasonable probability\n",
            "theory of the contempt\n",
            "theory of the state\n",
            "theory of the act\n",
            "theory of the tying\n",
            "theory of the tying cases\n",
            "theory of the defendant\n",
            "theory of the case\n"
          ]
        }
      ]
    },
    {
      "cell_type": "code",
      "source": [
        ""
      ],
      "metadata": {
        "id": "J8ggZ9p33Hwd"
      },
      "execution_count": null,
      "outputs": []
    }
  ]
}